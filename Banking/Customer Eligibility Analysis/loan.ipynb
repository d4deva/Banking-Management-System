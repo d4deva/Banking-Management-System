{
 "cells": [
  {
   "cell_type": "code",
   "execution_count": 2,
   "id": "foreign-chile",
   "metadata": {
    "id": "graduate-entry"
   },
   "outputs": [],
   "source": [
    "import pandas as pd\n",
    "import numpy as np\n",
    "import matplotlib.pyplot as plt\n",
    "import seaborn as sns\n",
    "pd.set_option(\"max_column\",151)"
   ]
  },
  {
   "cell_type": "code",
   "execution_count": 18,
   "id": "numerical-ceramic",
   "metadata": {
    "id": "blank-program",
    "outputId": "13c355c7-c37e-4f54-cc5f-507d32255668"
   },
   "outputs": [
    {
     "name": "stderr",
     "output_type": "stream",
     "text": [
      "C:\\Users\\Debas\\Anaconda3\\lib\\site-packages\\IPython\\core\\interactiveshell.py:3058: DtypeWarning: Columns (0,19,49,59,118,129,130,131,134,135,136,139,145,146,147) have mixed types. Specify dtype option on import or set low_memory=False.\n",
      "  interactivity=interactivity, compiler=compiler, result=result)\n"
     ]
    }
   ],
   "source": [
    "df_accepted = pd.read_csv(r\"D:\\project\\Lending Club\\accepted_2007_to_2018Q4.csv\\accepted_2007_to_2018Q4.csv\")\n",
    "df_rejected = pd.read_csv(r\"D:\\project\\Lending Club\\rejected_2007_to_2018Q4.csv\\rejected_2007_to_2018Q4.csv\")"
   ]
  },
  {
   "cell_type": "code",
   "execution_count": null,
   "id": "baking-confirmation",
   "metadata": {
    "id": "burning-voltage",
    "outputId": "92546ffe-7e82-48a7-fca5-fc2e4bbc1cd2"
   },
   "outputs": [
    {
     "name": "stdout",
     "output_type": "stream",
     "text": [
      "(2260701, 151)\n"
     ]
    },
    {
     "data": {
      "text/html": [
       "<div>\n",
       "<style scoped>\n",
       "    .dataframe tbody tr th:only-of-type {\n",
       "        vertical-align: middle;\n",
       "    }\n",
       "\n",
       "    .dataframe tbody tr th {\n",
       "        vertical-align: top;\n",
       "    }\n",
       "\n",
       "    .dataframe thead th {\n",
       "        text-align: right;\n",
       "    }\n",
       "</style>\n",
       "<table border=\"1\" class=\"dataframe\">\n",
       "  <thead>\n",
       "    <tr style=\"text-align: right;\">\n",
       "      <th></th>\n",
       "      <th>id</th>\n",
       "      <th>member_id</th>\n",
       "      <th>loan_amnt</th>\n",
       "      <th>funded_amnt</th>\n",
       "      <th>funded_amnt_inv</th>\n",
       "      <th>term</th>\n",
       "      <th>int_rate</th>\n",
       "      <th>installment</th>\n",
       "      <th>grade</th>\n",
       "      <th>sub_grade</th>\n",
       "      <th>emp_title</th>\n",
       "      <th>emp_length</th>\n",
       "      <th>home_ownership</th>\n",
       "      <th>annual_inc</th>\n",
       "      <th>verification_status</th>\n",
       "      <th>issue_d</th>\n",
       "      <th>loan_status</th>\n",
       "      <th>pymnt_plan</th>\n",
       "      <th>url</th>\n",
       "      <th>desc</th>\n",
       "      <th>purpose</th>\n",
       "      <th>title</th>\n",
       "      <th>zip_code</th>\n",
       "      <th>addr_state</th>\n",
       "      <th>dti</th>\n",
       "      <th>delinq_2yrs</th>\n",
       "      <th>earliest_cr_line</th>\n",
       "      <th>fico_range_low</th>\n",
       "      <th>fico_range_high</th>\n",
       "      <th>inq_last_6mths</th>\n",
       "      <th>mths_since_last_delinq</th>\n",
       "      <th>mths_since_last_record</th>\n",
       "      <th>open_acc</th>\n",
       "      <th>pub_rec</th>\n",
       "      <th>revol_bal</th>\n",
       "      <th>revol_util</th>\n",
       "      <th>total_acc</th>\n",
       "      <th>initial_list_status</th>\n",
       "      <th>out_prncp</th>\n",
       "      <th>out_prncp_inv</th>\n",
       "      <th>total_pymnt</th>\n",
       "      <th>total_pymnt_inv</th>\n",
       "      <th>total_rec_prncp</th>\n",
       "      <th>total_rec_int</th>\n",
       "      <th>total_rec_late_fee</th>\n",
       "      <th>recoveries</th>\n",
       "      <th>collection_recovery_fee</th>\n",
       "      <th>last_pymnt_d</th>\n",
       "      <th>last_pymnt_amnt</th>\n",
       "      <th>next_pymnt_d</th>\n",
       "      <th>last_credit_pull_d</th>\n",
       "      <th>last_fico_range_high</th>\n",
       "      <th>last_fico_range_low</th>\n",
       "      <th>collections_12_mths_ex_med</th>\n",
       "      <th>mths_since_last_major_derog</th>\n",
       "      <th>policy_code</th>\n",
       "      <th>application_type</th>\n",
       "      <th>annual_inc_joint</th>\n",
       "      <th>dti_joint</th>\n",
       "      <th>verification_status_joint</th>\n",
       "      <th>acc_now_delinq</th>\n",
       "      <th>tot_coll_amt</th>\n",
       "      <th>tot_cur_bal</th>\n",
       "      <th>open_acc_6m</th>\n",
       "      <th>open_act_il</th>\n",
       "      <th>open_il_12m</th>\n",
       "      <th>open_il_24m</th>\n",
       "      <th>mths_since_rcnt_il</th>\n",
       "      <th>total_bal_il</th>\n",
       "      <th>il_util</th>\n",
       "      <th>open_rv_12m</th>\n",
       "      <th>open_rv_24m</th>\n",
       "      <th>max_bal_bc</th>\n",
       "      <th>all_util</th>\n",
       "      <th>total_rev_hi_lim</th>\n",
       "      <th>inq_fi</th>\n",
       "      <th>total_cu_tl</th>\n",
       "      <th>inq_last_12m</th>\n",
       "      <th>acc_open_past_24mths</th>\n",
       "      <th>avg_cur_bal</th>\n",
       "      <th>bc_open_to_buy</th>\n",
       "      <th>bc_util</th>\n",
       "      <th>chargeoff_within_12_mths</th>\n",
       "      <th>delinq_amnt</th>\n",
       "      <th>mo_sin_old_il_acct</th>\n",
       "      <th>mo_sin_old_rev_tl_op</th>\n",
       "      <th>mo_sin_rcnt_rev_tl_op</th>\n",
       "      <th>mo_sin_rcnt_tl</th>\n",
       "      <th>mort_acc</th>\n",
       "      <th>mths_since_recent_bc</th>\n",
       "      <th>mths_since_recent_bc_dlq</th>\n",
       "      <th>mths_since_recent_inq</th>\n",
       "      <th>mths_since_recent_revol_delinq</th>\n",
       "      <th>num_accts_ever_120_pd</th>\n",
       "      <th>num_actv_bc_tl</th>\n",
       "      <th>num_actv_rev_tl</th>\n",
       "      <th>num_bc_sats</th>\n",
       "      <th>num_bc_tl</th>\n",
       "      <th>num_il_tl</th>\n",
       "      <th>num_op_rev_tl</th>\n",
       "      <th>num_rev_accts</th>\n",
       "      <th>num_rev_tl_bal_gt_0</th>\n",
       "      <th>num_sats</th>\n",
       "      <th>num_tl_120dpd_2m</th>\n",
       "      <th>num_tl_30dpd</th>\n",
       "      <th>num_tl_90g_dpd_24m</th>\n",
       "      <th>num_tl_op_past_12m</th>\n",
       "      <th>pct_tl_nvr_dlq</th>\n",
       "      <th>percent_bc_gt_75</th>\n",
       "      <th>pub_rec_bankruptcies</th>\n",
       "      <th>tax_liens</th>\n",
       "      <th>tot_hi_cred_lim</th>\n",
       "      <th>total_bal_ex_mort</th>\n",
       "      <th>total_bc_limit</th>\n",
       "      <th>total_il_high_credit_limit</th>\n",
       "      <th>revol_bal_joint</th>\n",
       "      <th>sec_app_fico_range_low</th>\n",
       "      <th>sec_app_fico_range_high</th>\n",
       "      <th>sec_app_earliest_cr_line</th>\n",
       "      <th>sec_app_inq_last_6mths</th>\n",
       "      <th>sec_app_mort_acc</th>\n",
       "      <th>sec_app_open_acc</th>\n",
       "      <th>sec_app_revol_util</th>\n",
       "      <th>sec_app_open_act_il</th>\n",
       "      <th>sec_app_num_rev_accts</th>\n",
       "      <th>sec_app_chargeoff_within_12_mths</th>\n",
       "      <th>sec_app_collections_12_mths_ex_med</th>\n",
       "      <th>sec_app_mths_since_last_major_derog</th>\n",
       "      <th>hardship_flag</th>\n",
       "      <th>hardship_type</th>\n",
       "      <th>hardship_reason</th>\n",
       "      <th>hardship_status</th>\n",
       "      <th>deferral_term</th>\n",
       "      <th>hardship_amount</th>\n",
       "      <th>hardship_start_date</th>\n",
       "      <th>hardship_end_date</th>\n",
       "      <th>payment_plan_start_date</th>\n",
       "      <th>hardship_length</th>\n",
       "      <th>hardship_dpd</th>\n",
       "      <th>hardship_loan_status</th>\n",
       "      <th>orig_projected_additional_accrued_interest</th>\n",
       "      <th>hardship_payoff_balance_amount</th>\n",
       "      <th>hardship_last_payment_amount</th>\n",
       "      <th>disbursement_method</th>\n",
       "      <th>debt_settlement_flag</th>\n",
       "      <th>debt_settlement_flag_date</th>\n",
       "      <th>settlement_status</th>\n",
       "      <th>settlement_date</th>\n",
       "      <th>settlement_amount</th>\n",
       "      <th>settlement_percentage</th>\n",
       "      <th>settlement_term</th>\n",
       "    </tr>\n",
       "  </thead>\n",
       "  <tbody>\n",
       "    <tr>\n",
       "      <td>0</td>\n",
       "      <td>68407277</td>\n",
       "      <td>NaN</td>\n",
       "      <td>3600.0</td>\n",
       "      <td>3600.0</td>\n",
       "      <td>3600.0</td>\n",
       "      <td>36 months</td>\n",
       "      <td>13.99</td>\n",
       "      <td>123.03</td>\n",
       "      <td>C</td>\n",
       "      <td>C4</td>\n",
       "      <td>leadman</td>\n",
       "      <td>10+ years</td>\n",
       "      <td>MORTGAGE</td>\n",
       "      <td>55000.0</td>\n",
       "      <td>Not Verified</td>\n",
       "      <td>Dec-2015</td>\n",
       "      <td>Fully Paid</td>\n",
       "      <td>n</td>\n",
       "      <td>https://lendingclub.com/browse/loanDetail.acti...</td>\n",
       "      <td>NaN</td>\n",
       "      <td>debt_consolidation</td>\n",
       "      <td>Debt consolidation</td>\n",
       "      <td>190xx</td>\n",
       "      <td>PA</td>\n",
       "      <td>5.91</td>\n",
       "      <td>0.0</td>\n",
       "      <td>Aug-2003</td>\n",
       "      <td>675.0</td>\n",
       "      <td>679.0</td>\n",
       "      <td>1.0</td>\n",
       "      <td>30.0</td>\n",
       "      <td>NaN</td>\n",
       "      <td>7.0</td>\n",
       "      <td>0.0</td>\n",
       "      <td>2765.0</td>\n",
       "      <td>29.7</td>\n",
       "      <td>13.0</td>\n",
       "      <td>w</td>\n",
       "      <td>0.00</td>\n",
       "      <td>0.00</td>\n",
       "      <td>4421.723917</td>\n",
       "      <td>4421.72</td>\n",
       "      <td>3600.00</td>\n",
       "      <td>821.72</td>\n",
       "      <td>0.0</td>\n",
       "      <td>0.0</td>\n",
       "      <td>0.0</td>\n",
       "      <td>Jan-2019</td>\n",
       "      <td>122.67</td>\n",
       "      <td>NaN</td>\n",
       "      <td>Mar-2019</td>\n",
       "      <td>564.0</td>\n",
       "      <td>560.0</td>\n",
       "      <td>0.0</td>\n",
       "      <td>30.0</td>\n",
       "      <td>1.0</td>\n",
       "      <td>Individual</td>\n",
       "      <td>NaN</td>\n",
       "      <td>NaN</td>\n",
       "      <td>NaN</td>\n",
       "      <td>0.0</td>\n",
       "      <td>722.0</td>\n",
       "      <td>144904.0</td>\n",
       "      <td>2.0</td>\n",
       "      <td>2.0</td>\n",
       "      <td>0.0</td>\n",
       "      <td>1.0</td>\n",
       "      <td>21.0</td>\n",
       "      <td>4981.0</td>\n",
       "      <td>36.0</td>\n",
       "      <td>3.0</td>\n",
       "      <td>3.0</td>\n",
       "      <td>722.0</td>\n",
       "      <td>34.0</td>\n",
       "      <td>9300.0</td>\n",
       "      <td>3.0</td>\n",
       "      <td>1.0</td>\n",
       "      <td>4.0</td>\n",
       "      <td>4.0</td>\n",
       "      <td>20701.0</td>\n",
       "      <td>1506.0</td>\n",
       "      <td>37.2</td>\n",
       "      <td>0.0</td>\n",
       "      <td>0.0</td>\n",
       "      <td>148.0</td>\n",
       "      <td>128.0</td>\n",
       "      <td>3.0</td>\n",
       "      <td>3.0</td>\n",
       "      <td>1.0</td>\n",
       "      <td>4.0</td>\n",
       "      <td>69.0</td>\n",
       "      <td>4.0</td>\n",
       "      <td>69.0</td>\n",
       "      <td>2.0</td>\n",
       "      <td>2.0</td>\n",
       "      <td>4.0</td>\n",
       "      <td>2.0</td>\n",
       "      <td>5.0</td>\n",
       "      <td>3.0</td>\n",
       "      <td>4.0</td>\n",
       "      <td>9.0</td>\n",
       "      <td>4.0</td>\n",
       "      <td>7.0</td>\n",
       "      <td>0.0</td>\n",
       "      <td>0.0</td>\n",
       "      <td>0.0</td>\n",
       "      <td>3.0</td>\n",
       "      <td>76.9</td>\n",
       "      <td>0.0</td>\n",
       "      <td>0.0</td>\n",
       "      <td>0.0</td>\n",
       "      <td>178050.0</td>\n",
       "      <td>7746.0</td>\n",
       "      <td>2400.0</td>\n",
       "      <td>13734.0</td>\n",
       "      <td>NaN</td>\n",
       "      <td>NaN</td>\n",
       "      <td>NaN</td>\n",
       "      <td>NaN</td>\n",
       "      <td>NaN</td>\n",
       "      <td>NaN</td>\n",
       "      <td>NaN</td>\n",
       "      <td>NaN</td>\n",
       "      <td>NaN</td>\n",
       "      <td>NaN</td>\n",
       "      <td>NaN</td>\n",
       "      <td>NaN</td>\n",
       "      <td>NaN</td>\n",
       "      <td>N</td>\n",
       "      <td>NaN</td>\n",
       "      <td>NaN</td>\n",
       "      <td>NaN</td>\n",
       "      <td>NaN</td>\n",
       "      <td>NaN</td>\n",
       "      <td>NaN</td>\n",
       "      <td>NaN</td>\n",
       "      <td>NaN</td>\n",
       "      <td>NaN</td>\n",
       "      <td>NaN</td>\n",
       "      <td>NaN</td>\n",
       "      <td>NaN</td>\n",
       "      <td>NaN</td>\n",
       "      <td>NaN</td>\n",
       "      <td>Cash</td>\n",
       "      <td>N</td>\n",
       "      <td>NaN</td>\n",
       "      <td>NaN</td>\n",
       "      <td>NaN</td>\n",
       "      <td>NaN</td>\n",
       "      <td>NaN</td>\n",
       "      <td>NaN</td>\n",
       "    </tr>\n",
       "    <tr>\n",
       "      <td>1</td>\n",
       "      <td>68355089</td>\n",
       "      <td>NaN</td>\n",
       "      <td>24700.0</td>\n",
       "      <td>24700.0</td>\n",
       "      <td>24700.0</td>\n",
       "      <td>36 months</td>\n",
       "      <td>11.99</td>\n",
       "      <td>820.28</td>\n",
       "      <td>C</td>\n",
       "      <td>C1</td>\n",
       "      <td>Engineer</td>\n",
       "      <td>10+ years</td>\n",
       "      <td>MORTGAGE</td>\n",
       "      <td>65000.0</td>\n",
       "      <td>Not Verified</td>\n",
       "      <td>Dec-2015</td>\n",
       "      <td>Fully Paid</td>\n",
       "      <td>n</td>\n",
       "      <td>https://lendingclub.com/browse/loanDetail.acti...</td>\n",
       "      <td>NaN</td>\n",
       "      <td>small_business</td>\n",
       "      <td>Business</td>\n",
       "      <td>577xx</td>\n",
       "      <td>SD</td>\n",
       "      <td>16.06</td>\n",
       "      <td>1.0</td>\n",
       "      <td>Dec-1999</td>\n",
       "      <td>715.0</td>\n",
       "      <td>719.0</td>\n",
       "      <td>4.0</td>\n",
       "      <td>6.0</td>\n",
       "      <td>NaN</td>\n",
       "      <td>22.0</td>\n",
       "      <td>0.0</td>\n",
       "      <td>21470.0</td>\n",
       "      <td>19.2</td>\n",
       "      <td>38.0</td>\n",
       "      <td>w</td>\n",
       "      <td>0.00</td>\n",
       "      <td>0.00</td>\n",
       "      <td>25679.660000</td>\n",
       "      <td>25679.66</td>\n",
       "      <td>24700.00</td>\n",
       "      <td>979.66</td>\n",
       "      <td>0.0</td>\n",
       "      <td>0.0</td>\n",
       "      <td>0.0</td>\n",
       "      <td>Jun-2016</td>\n",
       "      <td>926.35</td>\n",
       "      <td>NaN</td>\n",
       "      <td>Mar-2019</td>\n",
       "      <td>699.0</td>\n",
       "      <td>695.0</td>\n",
       "      <td>0.0</td>\n",
       "      <td>NaN</td>\n",
       "      <td>1.0</td>\n",
       "      <td>Individual</td>\n",
       "      <td>NaN</td>\n",
       "      <td>NaN</td>\n",
       "      <td>NaN</td>\n",
       "      <td>0.0</td>\n",
       "      <td>0.0</td>\n",
       "      <td>204396.0</td>\n",
       "      <td>1.0</td>\n",
       "      <td>1.0</td>\n",
       "      <td>0.0</td>\n",
       "      <td>1.0</td>\n",
       "      <td>19.0</td>\n",
       "      <td>18005.0</td>\n",
       "      <td>73.0</td>\n",
       "      <td>2.0</td>\n",
       "      <td>3.0</td>\n",
       "      <td>6472.0</td>\n",
       "      <td>29.0</td>\n",
       "      <td>111800.0</td>\n",
       "      <td>0.0</td>\n",
       "      <td>0.0</td>\n",
       "      <td>6.0</td>\n",
       "      <td>4.0</td>\n",
       "      <td>9733.0</td>\n",
       "      <td>57830.0</td>\n",
       "      <td>27.1</td>\n",
       "      <td>0.0</td>\n",
       "      <td>0.0</td>\n",
       "      <td>113.0</td>\n",
       "      <td>192.0</td>\n",
       "      <td>2.0</td>\n",
       "      <td>2.0</td>\n",
       "      <td>4.0</td>\n",
       "      <td>2.0</td>\n",
       "      <td>NaN</td>\n",
       "      <td>0.0</td>\n",
       "      <td>6.0</td>\n",
       "      <td>0.0</td>\n",
       "      <td>5.0</td>\n",
       "      <td>5.0</td>\n",
       "      <td>13.0</td>\n",
       "      <td>17.0</td>\n",
       "      <td>6.0</td>\n",
       "      <td>20.0</td>\n",
       "      <td>27.0</td>\n",
       "      <td>5.0</td>\n",
       "      <td>22.0</td>\n",
       "      <td>0.0</td>\n",
       "      <td>0.0</td>\n",
       "      <td>0.0</td>\n",
       "      <td>2.0</td>\n",
       "      <td>97.4</td>\n",
       "      <td>7.7</td>\n",
       "      <td>0.0</td>\n",
       "      <td>0.0</td>\n",
       "      <td>314017.0</td>\n",
       "      <td>39475.0</td>\n",
       "      <td>79300.0</td>\n",
       "      <td>24667.0</td>\n",
       "      <td>NaN</td>\n",
       "      <td>NaN</td>\n",
       "      <td>NaN</td>\n",
       "      <td>NaN</td>\n",
       "      <td>NaN</td>\n",
       "      <td>NaN</td>\n",
       "      <td>NaN</td>\n",
       "      <td>NaN</td>\n",
       "      <td>NaN</td>\n",
       "      <td>NaN</td>\n",
       "      <td>NaN</td>\n",
       "      <td>NaN</td>\n",
       "      <td>NaN</td>\n",
       "      <td>N</td>\n",
       "      <td>NaN</td>\n",
       "      <td>NaN</td>\n",
       "      <td>NaN</td>\n",
       "      <td>NaN</td>\n",
       "      <td>NaN</td>\n",
       "      <td>NaN</td>\n",
       "      <td>NaN</td>\n",
       "      <td>NaN</td>\n",
       "      <td>NaN</td>\n",
       "      <td>NaN</td>\n",
       "      <td>NaN</td>\n",
       "      <td>NaN</td>\n",
       "      <td>NaN</td>\n",
       "      <td>NaN</td>\n",
       "      <td>Cash</td>\n",
       "      <td>N</td>\n",
       "      <td>NaN</td>\n",
       "      <td>NaN</td>\n",
       "      <td>NaN</td>\n",
       "      <td>NaN</td>\n",
       "      <td>NaN</td>\n",
       "      <td>NaN</td>\n",
       "    </tr>\n",
       "    <tr>\n",
       "      <td>2</td>\n",
       "      <td>68341763</td>\n",
       "      <td>NaN</td>\n",
       "      <td>20000.0</td>\n",
       "      <td>20000.0</td>\n",
       "      <td>20000.0</td>\n",
       "      <td>60 months</td>\n",
       "      <td>10.78</td>\n",
       "      <td>432.66</td>\n",
       "      <td>B</td>\n",
       "      <td>B4</td>\n",
       "      <td>truck driver</td>\n",
       "      <td>10+ years</td>\n",
       "      <td>MORTGAGE</td>\n",
       "      <td>63000.0</td>\n",
       "      <td>Not Verified</td>\n",
       "      <td>Dec-2015</td>\n",
       "      <td>Fully Paid</td>\n",
       "      <td>n</td>\n",
       "      <td>https://lendingclub.com/browse/loanDetail.acti...</td>\n",
       "      <td>NaN</td>\n",
       "      <td>home_improvement</td>\n",
       "      <td>NaN</td>\n",
       "      <td>605xx</td>\n",
       "      <td>IL</td>\n",
       "      <td>10.78</td>\n",
       "      <td>0.0</td>\n",
       "      <td>Aug-2000</td>\n",
       "      <td>695.0</td>\n",
       "      <td>699.0</td>\n",
       "      <td>0.0</td>\n",
       "      <td>NaN</td>\n",
       "      <td>NaN</td>\n",
       "      <td>6.0</td>\n",
       "      <td>0.0</td>\n",
       "      <td>7869.0</td>\n",
       "      <td>56.2</td>\n",
       "      <td>18.0</td>\n",
       "      <td>w</td>\n",
       "      <td>0.00</td>\n",
       "      <td>0.00</td>\n",
       "      <td>22705.924294</td>\n",
       "      <td>22705.92</td>\n",
       "      <td>20000.00</td>\n",
       "      <td>2705.92</td>\n",
       "      <td>0.0</td>\n",
       "      <td>0.0</td>\n",
       "      <td>0.0</td>\n",
       "      <td>Jun-2017</td>\n",
       "      <td>15813.30</td>\n",
       "      <td>NaN</td>\n",
       "      <td>Mar-2019</td>\n",
       "      <td>704.0</td>\n",
       "      <td>700.0</td>\n",
       "      <td>0.0</td>\n",
       "      <td>NaN</td>\n",
       "      <td>1.0</td>\n",
       "      <td>Joint App</td>\n",
       "      <td>71000.0</td>\n",
       "      <td>13.85</td>\n",
       "      <td>Not Verified</td>\n",
       "      <td>0.0</td>\n",
       "      <td>0.0</td>\n",
       "      <td>189699.0</td>\n",
       "      <td>0.0</td>\n",
       "      <td>1.0</td>\n",
       "      <td>0.0</td>\n",
       "      <td>4.0</td>\n",
       "      <td>19.0</td>\n",
       "      <td>10827.0</td>\n",
       "      <td>73.0</td>\n",
       "      <td>0.0</td>\n",
       "      <td>2.0</td>\n",
       "      <td>2081.0</td>\n",
       "      <td>65.0</td>\n",
       "      <td>14000.0</td>\n",
       "      <td>2.0</td>\n",
       "      <td>5.0</td>\n",
       "      <td>1.0</td>\n",
       "      <td>6.0</td>\n",
       "      <td>31617.0</td>\n",
       "      <td>2737.0</td>\n",
       "      <td>55.9</td>\n",
       "      <td>0.0</td>\n",
       "      <td>0.0</td>\n",
       "      <td>125.0</td>\n",
       "      <td>184.0</td>\n",
       "      <td>14.0</td>\n",
       "      <td>14.0</td>\n",
       "      <td>5.0</td>\n",
       "      <td>101.0</td>\n",
       "      <td>NaN</td>\n",
       "      <td>10.0</td>\n",
       "      <td>NaN</td>\n",
       "      <td>0.0</td>\n",
       "      <td>2.0</td>\n",
       "      <td>3.0</td>\n",
       "      <td>2.0</td>\n",
       "      <td>4.0</td>\n",
       "      <td>6.0</td>\n",
       "      <td>4.0</td>\n",
       "      <td>7.0</td>\n",
       "      <td>3.0</td>\n",
       "      <td>6.0</td>\n",
       "      <td>0.0</td>\n",
       "      <td>0.0</td>\n",
       "      <td>0.0</td>\n",
       "      <td>0.0</td>\n",
       "      <td>100.0</td>\n",
       "      <td>50.0</td>\n",
       "      <td>0.0</td>\n",
       "      <td>0.0</td>\n",
       "      <td>218418.0</td>\n",
       "      <td>18696.0</td>\n",
       "      <td>6200.0</td>\n",
       "      <td>14877.0</td>\n",
       "      <td>NaN</td>\n",
       "      <td>NaN</td>\n",
       "      <td>NaN</td>\n",
       "      <td>NaN</td>\n",
       "      <td>NaN</td>\n",
       "      <td>NaN</td>\n",
       "      <td>NaN</td>\n",
       "      <td>NaN</td>\n",
       "      <td>NaN</td>\n",
       "      <td>NaN</td>\n",
       "      <td>NaN</td>\n",
       "      <td>NaN</td>\n",
       "      <td>NaN</td>\n",
       "      <td>N</td>\n",
       "      <td>NaN</td>\n",
       "      <td>NaN</td>\n",
       "      <td>NaN</td>\n",
       "      <td>NaN</td>\n",
       "      <td>NaN</td>\n",
       "      <td>NaN</td>\n",
       "      <td>NaN</td>\n",
       "      <td>NaN</td>\n",
       "      <td>NaN</td>\n",
       "      <td>NaN</td>\n",
       "      <td>NaN</td>\n",
       "      <td>NaN</td>\n",
       "      <td>NaN</td>\n",
       "      <td>NaN</td>\n",
       "      <td>Cash</td>\n",
       "      <td>N</td>\n",
       "      <td>NaN</td>\n",
       "      <td>NaN</td>\n",
       "      <td>NaN</td>\n",
       "      <td>NaN</td>\n",
       "      <td>NaN</td>\n",
       "      <td>NaN</td>\n",
       "    </tr>\n",
       "    <tr>\n",
       "      <td>3</td>\n",
       "      <td>66310712</td>\n",
       "      <td>NaN</td>\n",
       "      <td>35000.0</td>\n",
       "      <td>35000.0</td>\n",
       "      <td>35000.0</td>\n",
       "      <td>60 months</td>\n",
       "      <td>14.85</td>\n",
       "      <td>829.90</td>\n",
       "      <td>C</td>\n",
       "      <td>C5</td>\n",
       "      <td>Information Systems Officer</td>\n",
       "      <td>10+ years</td>\n",
       "      <td>MORTGAGE</td>\n",
       "      <td>110000.0</td>\n",
       "      <td>Source Verified</td>\n",
       "      <td>Dec-2015</td>\n",
       "      <td>Current</td>\n",
       "      <td>n</td>\n",
       "      <td>https://lendingclub.com/browse/loanDetail.acti...</td>\n",
       "      <td>NaN</td>\n",
       "      <td>debt_consolidation</td>\n",
       "      <td>Debt consolidation</td>\n",
       "      <td>076xx</td>\n",
       "      <td>NJ</td>\n",
       "      <td>17.06</td>\n",
       "      <td>0.0</td>\n",
       "      <td>Sep-2008</td>\n",
       "      <td>785.0</td>\n",
       "      <td>789.0</td>\n",
       "      <td>0.0</td>\n",
       "      <td>NaN</td>\n",
       "      <td>NaN</td>\n",
       "      <td>13.0</td>\n",
       "      <td>0.0</td>\n",
       "      <td>7802.0</td>\n",
       "      <td>11.6</td>\n",
       "      <td>17.0</td>\n",
       "      <td>w</td>\n",
       "      <td>15897.65</td>\n",
       "      <td>15897.65</td>\n",
       "      <td>31464.010000</td>\n",
       "      <td>31464.01</td>\n",
       "      <td>19102.35</td>\n",
       "      <td>12361.66</td>\n",
       "      <td>0.0</td>\n",
       "      <td>0.0</td>\n",
       "      <td>0.0</td>\n",
       "      <td>Feb-2019</td>\n",
       "      <td>829.90</td>\n",
       "      <td>Apr-2019</td>\n",
       "      <td>Mar-2019</td>\n",
       "      <td>679.0</td>\n",
       "      <td>675.0</td>\n",
       "      <td>0.0</td>\n",
       "      <td>NaN</td>\n",
       "      <td>1.0</td>\n",
       "      <td>Individual</td>\n",
       "      <td>NaN</td>\n",
       "      <td>NaN</td>\n",
       "      <td>NaN</td>\n",
       "      <td>0.0</td>\n",
       "      <td>0.0</td>\n",
       "      <td>301500.0</td>\n",
       "      <td>1.0</td>\n",
       "      <td>1.0</td>\n",
       "      <td>0.0</td>\n",
       "      <td>1.0</td>\n",
       "      <td>23.0</td>\n",
       "      <td>12609.0</td>\n",
       "      <td>70.0</td>\n",
       "      <td>1.0</td>\n",
       "      <td>1.0</td>\n",
       "      <td>6987.0</td>\n",
       "      <td>45.0</td>\n",
       "      <td>67300.0</td>\n",
       "      <td>0.0</td>\n",
       "      <td>1.0</td>\n",
       "      <td>0.0</td>\n",
       "      <td>2.0</td>\n",
       "      <td>23192.0</td>\n",
       "      <td>54962.0</td>\n",
       "      <td>12.1</td>\n",
       "      <td>0.0</td>\n",
       "      <td>0.0</td>\n",
       "      <td>36.0</td>\n",
       "      <td>87.0</td>\n",
       "      <td>2.0</td>\n",
       "      <td>2.0</td>\n",
       "      <td>1.0</td>\n",
       "      <td>2.0</td>\n",
       "      <td>NaN</td>\n",
       "      <td>NaN</td>\n",
       "      <td>NaN</td>\n",
       "      <td>0.0</td>\n",
       "      <td>4.0</td>\n",
       "      <td>5.0</td>\n",
       "      <td>8.0</td>\n",
       "      <td>10.0</td>\n",
       "      <td>2.0</td>\n",
       "      <td>10.0</td>\n",
       "      <td>13.0</td>\n",
       "      <td>5.0</td>\n",
       "      <td>13.0</td>\n",
       "      <td>0.0</td>\n",
       "      <td>0.0</td>\n",
       "      <td>0.0</td>\n",
       "      <td>1.0</td>\n",
       "      <td>100.0</td>\n",
       "      <td>0.0</td>\n",
       "      <td>0.0</td>\n",
       "      <td>0.0</td>\n",
       "      <td>381215.0</td>\n",
       "      <td>52226.0</td>\n",
       "      <td>62500.0</td>\n",
       "      <td>18000.0</td>\n",
       "      <td>NaN</td>\n",
       "      <td>NaN</td>\n",
       "      <td>NaN</td>\n",
       "      <td>NaN</td>\n",
       "      <td>NaN</td>\n",
       "      <td>NaN</td>\n",
       "      <td>NaN</td>\n",
       "      <td>NaN</td>\n",
       "      <td>NaN</td>\n",
       "      <td>NaN</td>\n",
       "      <td>NaN</td>\n",
       "      <td>NaN</td>\n",
       "      <td>NaN</td>\n",
       "      <td>N</td>\n",
       "      <td>NaN</td>\n",
       "      <td>NaN</td>\n",
       "      <td>NaN</td>\n",
       "      <td>NaN</td>\n",
       "      <td>NaN</td>\n",
       "      <td>NaN</td>\n",
       "      <td>NaN</td>\n",
       "      <td>NaN</td>\n",
       "      <td>NaN</td>\n",
       "      <td>NaN</td>\n",
       "      <td>NaN</td>\n",
       "      <td>NaN</td>\n",
       "      <td>NaN</td>\n",
       "      <td>NaN</td>\n",
       "      <td>Cash</td>\n",
       "      <td>N</td>\n",
       "      <td>NaN</td>\n",
       "      <td>NaN</td>\n",
       "      <td>NaN</td>\n",
       "      <td>NaN</td>\n",
       "      <td>NaN</td>\n",
       "      <td>NaN</td>\n",
       "    </tr>\n",
       "    <tr>\n",
       "      <td>4</td>\n",
       "      <td>68476807</td>\n",
       "      <td>NaN</td>\n",
       "      <td>10400.0</td>\n",
       "      <td>10400.0</td>\n",
       "      <td>10400.0</td>\n",
       "      <td>60 months</td>\n",
       "      <td>22.45</td>\n",
       "      <td>289.91</td>\n",
       "      <td>F</td>\n",
       "      <td>F1</td>\n",
       "      <td>Contract Specialist</td>\n",
       "      <td>3 years</td>\n",
       "      <td>MORTGAGE</td>\n",
       "      <td>104433.0</td>\n",
       "      <td>Source Verified</td>\n",
       "      <td>Dec-2015</td>\n",
       "      <td>Fully Paid</td>\n",
       "      <td>n</td>\n",
       "      <td>https://lendingclub.com/browse/loanDetail.acti...</td>\n",
       "      <td>NaN</td>\n",
       "      <td>major_purchase</td>\n",
       "      <td>Major purchase</td>\n",
       "      <td>174xx</td>\n",
       "      <td>PA</td>\n",
       "      <td>25.37</td>\n",
       "      <td>1.0</td>\n",
       "      <td>Jun-1998</td>\n",
       "      <td>695.0</td>\n",
       "      <td>699.0</td>\n",
       "      <td>3.0</td>\n",
       "      <td>12.0</td>\n",
       "      <td>NaN</td>\n",
       "      <td>12.0</td>\n",
       "      <td>0.0</td>\n",
       "      <td>21929.0</td>\n",
       "      <td>64.5</td>\n",
       "      <td>35.0</td>\n",
       "      <td>w</td>\n",
       "      <td>0.00</td>\n",
       "      <td>0.00</td>\n",
       "      <td>11740.500000</td>\n",
       "      <td>11740.50</td>\n",
       "      <td>10400.00</td>\n",
       "      <td>1340.50</td>\n",
       "      <td>0.0</td>\n",
       "      <td>0.0</td>\n",
       "      <td>0.0</td>\n",
       "      <td>Jul-2016</td>\n",
       "      <td>10128.96</td>\n",
       "      <td>NaN</td>\n",
       "      <td>Mar-2018</td>\n",
       "      <td>704.0</td>\n",
       "      <td>700.0</td>\n",
       "      <td>0.0</td>\n",
       "      <td>NaN</td>\n",
       "      <td>1.0</td>\n",
       "      <td>Individual</td>\n",
       "      <td>NaN</td>\n",
       "      <td>NaN</td>\n",
       "      <td>NaN</td>\n",
       "      <td>0.0</td>\n",
       "      <td>0.0</td>\n",
       "      <td>331730.0</td>\n",
       "      <td>1.0</td>\n",
       "      <td>3.0</td>\n",
       "      <td>0.0</td>\n",
       "      <td>3.0</td>\n",
       "      <td>14.0</td>\n",
       "      <td>73839.0</td>\n",
       "      <td>84.0</td>\n",
       "      <td>4.0</td>\n",
       "      <td>7.0</td>\n",
       "      <td>9702.0</td>\n",
       "      <td>78.0</td>\n",
       "      <td>34000.0</td>\n",
       "      <td>2.0</td>\n",
       "      <td>1.0</td>\n",
       "      <td>3.0</td>\n",
       "      <td>10.0</td>\n",
       "      <td>27644.0</td>\n",
       "      <td>4567.0</td>\n",
       "      <td>77.5</td>\n",
       "      <td>0.0</td>\n",
       "      <td>0.0</td>\n",
       "      <td>128.0</td>\n",
       "      <td>210.0</td>\n",
       "      <td>4.0</td>\n",
       "      <td>4.0</td>\n",
       "      <td>6.0</td>\n",
       "      <td>4.0</td>\n",
       "      <td>12.0</td>\n",
       "      <td>1.0</td>\n",
       "      <td>12.0</td>\n",
       "      <td>0.0</td>\n",
       "      <td>4.0</td>\n",
       "      <td>6.0</td>\n",
       "      <td>5.0</td>\n",
       "      <td>9.0</td>\n",
       "      <td>10.0</td>\n",
       "      <td>7.0</td>\n",
       "      <td>19.0</td>\n",
       "      <td>6.0</td>\n",
       "      <td>12.0</td>\n",
       "      <td>0.0</td>\n",
       "      <td>0.0</td>\n",
       "      <td>0.0</td>\n",
       "      <td>4.0</td>\n",
       "      <td>96.6</td>\n",
       "      <td>60.0</td>\n",
       "      <td>0.0</td>\n",
       "      <td>0.0</td>\n",
       "      <td>439570.0</td>\n",
       "      <td>95768.0</td>\n",
       "      <td>20300.0</td>\n",
       "      <td>88097.0</td>\n",
       "      <td>NaN</td>\n",
       "      <td>NaN</td>\n",
       "      <td>NaN</td>\n",
       "      <td>NaN</td>\n",
       "      <td>NaN</td>\n",
       "      <td>NaN</td>\n",
       "      <td>NaN</td>\n",
       "      <td>NaN</td>\n",
       "      <td>NaN</td>\n",
       "      <td>NaN</td>\n",
       "      <td>NaN</td>\n",
       "      <td>NaN</td>\n",
       "      <td>NaN</td>\n",
       "      <td>N</td>\n",
       "      <td>NaN</td>\n",
       "      <td>NaN</td>\n",
       "      <td>NaN</td>\n",
       "      <td>NaN</td>\n",
       "      <td>NaN</td>\n",
       "      <td>NaN</td>\n",
       "      <td>NaN</td>\n",
       "      <td>NaN</td>\n",
       "      <td>NaN</td>\n",
       "      <td>NaN</td>\n",
       "      <td>NaN</td>\n",
       "      <td>NaN</td>\n",
       "      <td>NaN</td>\n",
       "      <td>NaN</td>\n",
       "      <td>Cash</td>\n",
       "      <td>N</td>\n",
       "      <td>NaN</td>\n",
       "      <td>NaN</td>\n",
       "      <td>NaN</td>\n",
       "      <td>NaN</td>\n",
       "      <td>NaN</td>\n",
       "      <td>NaN</td>\n",
       "    </tr>\n",
       "  </tbody>\n",
       "</table>\n",
       "</div>"
      ],
      "text/plain": [
       "         id  member_id  loan_amnt  funded_amnt  funded_amnt_inv        term  \\\n",
       "0  68407277        NaN     3600.0       3600.0           3600.0   36 months   \n",
       "1  68355089        NaN    24700.0      24700.0          24700.0   36 months   \n",
       "2  68341763        NaN    20000.0      20000.0          20000.0   60 months   \n",
       "3  66310712        NaN    35000.0      35000.0          35000.0   60 months   \n",
       "4  68476807        NaN    10400.0      10400.0          10400.0   60 months   \n",
       "\n",
       "   int_rate  installment grade sub_grade                    emp_title  \\\n",
       "0     13.99       123.03     C        C4                      leadman   \n",
       "1     11.99       820.28     C        C1                     Engineer   \n",
       "2     10.78       432.66     B        B4                 truck driver   \n",
       "3     14.85       829.90     C        C5  Information Systems Officer   \n",
       "4     22.45       289.91     F        F1          Contract Specialist   \n",
       "\n",
       "  emp_length home_ownership  annual_inc verification_status   issue_d  \\\n",
       "0  10+ years       MORTGAGE     55000.0        Not Verified  Dec-2015   \n",
       "1  10+ years       MORTGAGE     65000.0        Not Verified  Dec-2015   \n",
       "2  10+ years       MORTGAGE     63000.0        Not Verified  Dec-2015   \n",
       "3  10+ years       MORTGAGE    110000.0     Source Verified  Dec-2015   \n",
       "4    3 years       MORTGAGE    104433.0     Source Verified  Dec-2015   \n",
       "\n",
       "  loan_status pymnt_plan                                                url  \\\n",
       "0  Fully Paid          n  https://lendingclub.com/browse/loanDetail.acti...   \n",
       "1  Fully Paid          n  https://lendingclub.com/browse/loanDetail.acti...   \n",
       "2  Fully Paid          n  https://lendingclub.com/browse/loanDetail.acti...   \n",
       "3     Current          n  https://lendingclub.com/browse/loanDetail.acti...   \n",
       "4  Fully Paid          n  https://lendingclub.com/browse/loanDetail.acti...   \n",
       "\n",
       "  desc             purpose               title zip_code addr_state    dti  \\\n",
       "0  NaN  debt_consolidation  Debt consolidation    190xx         PA   5.91   \n",
       "1  NaN      small_business            Business    577xx         SD  16.06   \n",
       "2  NaN    home_improvement                 NaN    605xx         IL  10.78   \n",
       "3  NaN  debt_consolidation  Debt consolidation    076xx         NJ  17.06   \n",
       "4  NaN      major_purchase      Major purchase    174xx         PA  25.37   \n",
       "\n",
       "   delinq_2yrs earliest_cr_line  fico_range_low  fico_range_high  \\\n",
       "0          0.0         Aug-2003           675.0            679.0   \n",
       "1          1.0         Dec-1999           715.0            719.0   \n",
       "2          0.0         Aug-2000           695.0            699.0   \n",
       "3          0.0         Sep-2008           785.0            789.0   \n",
       "4          1.0         Jun-1998           695.0            699.0   \n",
       "\n",
       "   inq_last_6mths  mths_since_last_delinq  mths_since_last_record  open_acc  \\\n",
       "0             1.0                    30.0                     NaN       7.0   \n",
       "1             4.0                     6.0                     NaN      22.0   \n",
       "2             0.0                     NaN                     NaN       6.0   \n",
       "3             0.0                     NaN                     NaN      13.0   \n",
       "4             3.0                    12.0                     NaN      12.0   \n",
       "\n",
       "   pub_rec  revol_bal  revol_util  total_acc initial_list_status  out_prncp  \\\n",
       "0      0.0     2765.0        29.7       13.0                   w       0.00   \n",
       "1      0.0    21470.0        19.2       38.0                   w       0.00   \n",
       "2      0.0     7869.0        56.2       18.0                   w       0.00   \n",
       "3      0.0     7802.0        11.6       17.0                   w   15897.65   \n",
       "4      0.0    21929.0        64.5       35.0                   w       0.00   \n",
       "\n",
       "   out_prncp_inv   total_pymnt  total_pymnt_inv  total_rec_prncp  \\\n",
       "0           0.00   4421.723917          4421.72          3600.00   \n",
       "1           0.00  25679.660000         25679.66         24700.00   \n",
       "2           0.00  22705.924294         22705.92         20000.00   \n",
       "3       15897.65  31464.010000         31464.01         19102.35   \n",
       "4           0.00  11740.500000         11740.50         10400.00   \n",
       "\n",
       "   total_rec_int  total_rec_late_fee  recoveries  collection_recovery_fee  \\\n",
       "0         821.72                 0.0         0.0                      0.0   \n",
       "1         979.66                 0.0         0.0                      0.0   \n",
       "2        2705.92                 0.0         0.0                      0.0   \n",
       "3       12361.66                 0.0         0.0                      0.0   \n",
       "4        1340.50                 0.0         0.0                      0.0   \n",
       "\n",
       "  last_pymnt_d  last_pymnt_amnt next_pymnt_d last_credit_pull_d  \\\n",
       "0     Jan-2019           122.67          NaN           Mar-2019   \n",
       "1     Jun-2016           926.35          NaN           Mar-2019   \n",
       "2     Jun-2017         15813.30          NaN           Mar-2019   \n",
       "3     Feb-2019           829.90     Apr-2019           Mar-2019   \n",
       "4     Jul-2016         10128.96          NaN           Mar-2018   \n",
       "\n",
       "   last_fico_range_high  last_fico_range_low  collections_12_mths_ex_med  \\\n",
       "0                 564.0                560.0                         0.0   \n",
       "1                 699.0                695.0                         0.0   \n",
       "2                 704.0                700.0                         0.0   \n",
       "3                 679.0                675.0                         0.0   \n",
       "4                 704.0                700.0                         0.0   \n",
       "\n",
       "   mths_since_last_major_derog  policy_code application_type  \\\n",
       "0                         30.0          1.0       Individual   \n",
       "1                          NaN          1.0       Individual   \n",
       "2                          NaN          1.0        Joint App   \n",
       "3                          NaN          1.0       Individual   \n",
       "4                          NaN          1.0       Individual   \n",
       "\n",
       "   annual_inc_joint  dti_joint verification_status_joint  acc_now_delinq  \\\n",
       "0               NaN        NaN                       NaN             0.0   \n",
       "1               NaN        NaN                       NaN             0.0   \n",
       "2           71000.0      13.85              Not Verified             0.0   \n",
       "3               NaN        NaN                       NaN             0.0   \n",
       "4               NaN        NaN                       NaN             0.0   \n",
       "\n",
       "   tot_coll_amt  tot_cur_bal  open_acc_6m  open_act_il  open_il_12m  \\\n",
       "0         722.0     144904.0          2.0          2.0          0.0   \n",
       "1           0.0     204396.0          1.0          1.0          0.0   \n",
       "2           0.0     189699.0          0.0          1.0          0.0   \n",
       "3           0.0     301500.0          1.0          1.0          0.0   \n",
       "4           0.0     331730.0          1.0          3.0          0.0   \n",
       "\n",
       "   open_il_24m  mths_since_rcnt_il  total_bal_il  il_util  open_rv_12m  \\\n",
       "0          1.0                21.0        4981.0     36.0          3.0   \n",
       "1          1.0                19.0       18005.0     73.0          2.0   \n",
       "2          4.0                19.0       10827.0     73.0          0.0   \n",
       "3          1.0                23.0       12609.0     70.0          1.0   \n",
       "4          3.0                14.0       73839.0     84.0          4.0   \n",
       "\n",
       "   open_rv_24m  max_bal_bc  all_util  total_rev_hi_lim  inq_fi  total_cu_tl  \\\n",
       "0          3.0       722.0      34.0            9300.0     3.0          1.0   \n",
       "1          3.0      6472.0      29.0          111800.0     0.0          0.0   \n",
       "2          2.0      2081.0      65.0           14000.0     2.0          5.0   \n",
       "3          1.0      6987.0      45.0           67300.0     0.0          1.0   \n",
       "4          7.0      9702.0      78.0           34000.0     2.0          1.0   \n",
       "\n",
       "   inq_last_12m  acc_open_past_24mths  avg_cur_bal  bc_open_to_buy  bc_util  \\\n",
       "0           4.0                   4.0      20701.0          1506.0     37.2   \n",
       "1           6.0                   4.0       9733.0         57830.0     27.1   \n",
       "2           1.0                   6.0      31617.0          2737.0     55.9   \n",
       "3           0.0                   2.0      23192.0         54962.0     12.1   \n",
       "4           3.0                  10.0      27644.0          4567.0     77.5   \n",
       "\n",
       "   chargeoff_within_12_mths  delinq_amnt  mo_sin_old_il_acct  \\\n",
       "0                       0.0          0.0               148.0   \n",
       "1                       0.0          0.0               113.0   \n",
       "2                       0.0          0.0               125.0   \n",
       "3                       0.0          0.0                36.0   \n",
       "4                       0.0          0.0               128.0   \n",
       "\n",
       "   mo_sin_old_rev_tl_op  mo_sin_rcnt_rev_tl_op  mo_sin_rcnt_tl  mort_acc  \\\n",
       "0                 128.0                    3.0             3.0       1.0   \n",
       "1                 192.0                    2.0             2.0       4.0   \n",
       "2                 184.0                   14.0            14.0       5.0   \n",
       "3                  87.0                    2.0             2.0       1.0   \n",
       "4                 210.0                    4.0             4.0       6.0   \n",
       "\n",
       "   mths_since_recent_bc  mths_since_recent_bc_dlq  mths_since_recent_inq  \\\n",
       "0                   4.0                      69.0                    4.0   \n",
       "1                   2.0                       NaN                    0.0   \n",
       "2                 101.0                       NaN                   10.0   \n",
       "3                   2.0                       NaN                    NaN   \n",
       "4                   4.0                      12.0                    1.0   \n",
       "\n",
       "   mths_since_recent_revol_delinq  num_accts_ever_120_pd  num_actv_bc_tl  \\\n",
       "0                            69.0                    2.0             2.0   \n",
       "1                             6.0                    0.0             5.0   \n",
       "2                             NaN                    0.0             2.0   \n",
       "3                             NaN                    0.0             4.0   \n",
       "4                            12.0                    0.0             4.0   \n",
       "\n",
       "   num_actv_rev_tl  num_bc_sats  num_bc_tl  num_il_tl  num_op_rev_tl  \\\n",
       "0              4.0          2.0        5.0        3.0            4.0   \n",
       "1              5.0         13.0       17.0        6.0           20.0   \n",
       "2              3.0          2.0        4.0        6.0            4.0   \n",
       "3              5.0          8.0       10.0        2.0           10.0   \n",
       "4              6.0          5.0        9.0       10.0            7.0   \n",
       "\n",
       "   num_rev_accts  num_rev_tl_bal_gt_0  num_sats  num_tl_120dpd_2m  \\\n",
       "0            9.0                  4.0       7.0               0.0   \n",
       "1           27.0                  5.0      22.0               0.0   \n",
       "2            7.0                  3.0       6.0               0.0   \n",
       "3           13.0                  5.0      13.0               0.0   \n",
       "4           19.0                  6.0      12.0               0.0   \n",
       "\n",
       "   num_tl_30dpd  num_tl_90g_dpd_24m  num_tl_op_past_12m  pct_tl_nvr_dlq  \\\n",
       "0           0.0                 0.0                 3.0            76.9   \n",
       "1           0.0                 0.0                 2.0            97.4   \n",
       "2           0.0                 0.0                 0.0           100.0   \n",
       "3           0.0                 0.0                 1.0           100.0   \n",
       "4           0.0                 0.0                 4.0            96.6   \n",
       "\n",
       "   percent_bc_gt_75  pub_rec_bankruptcies  tax_liens  tot_hi_cred_lim  \\\n",
       "0               0.0                   0.0        0.0         178050.0   \n",
       "1               7.7                   0.0        0.0         314017.0   \n",
       "2              50.0                   0.0        0.0         218418.0   \n",
       "3               0.0                   0.0        0.0         381215.0   \n",
       "4              60.0                   0.0        0.0         439570.0   \n",
       "\n",
       "   total_bal_ex_mort  total_bc_limit  total_il_high_credit_limit  \\\n",
       "0             7746.0          2400.0                     13734.0   \n",
       "1            39475.0         79300.0                     24667.0   \n",
       "2            18696.0          6200.0                     14877.0   \n",
       "3            52226.0         62500.0                     18000.0   \n",
       "4            95768.0         20300.0                     88097.0   \n",
       "\n",
       "   revol_bal_joint  sec_app_fico_range_low  sec_app_fico_range_high  \\\n",
       "0              NaN                     NaN                      NaN   \n",
       "1              NaN                     NaN                      NaN   \n",
       "2              NaN                     NaN                      NaN   \n",
       "3              NaN                     NaN                      NaN   \n",
       "4              NaN                     NaN                      NaN   \n",
       "\n",
       "  sec_app_earliest_cr_line  sec_app_inq_last_6mths  sec_app_mort_acc  \\\n",
       "0                      NaN                     NaN               NaN   \n",
       "1                      NaN                     NaN               NaN   \n",
       "2                      NaN                     NaN               NaN   \n",
       "3                      NaN                     NaN               NaN   \n",
       "4                      NaN                     NaN               NaN   \n",
       "\n",
       "   sec_app_open_acc  sec_app_revol_util  sec_app_open_act_il  \\\n",
       "0               NaN                 NaN                  NaN   \n",
       "1               NaN                 NaN                  NaN   \n",
       "2               NaN                 NaN                  NaN   \n",
       "3               NaN                 NaN                  NaN   \n",
       "4               NaN                 NaN                  NaN   \n",
       "\n",
       "   sec_app_num_rev_accts  sec_app_chargeoff_within_12_mths  \\\n",
       "0                    NaN                               NaN   \n",
       "1                    NaN                               NaN   \n",
       "2                    NaN                               NaN   \n",
       "3                    NaN                               NaN   \n",
       "4                    NaN                               NaN   \n",
       "\n",
       "   sec_app_collections_12_mths_ex_med  sec_app_mths_since_last_major_derog  \\\n",
       "0                                 NaN                                  NaN   \n",
       "1                                 NaN                                  NaN   \n",
       "2                                 NaN                                  NaN   \n",
       "3                                 NaN                                  NaN   \n",
       "4                                 NaN                                  NaN   \n",
       "\n",
       "  hardship_flag hardship_type hardship_reason hardship_status  deferral_term  \\\n",
       "0             N           NaN             NaN             NaN            NaN   \n",
       "1             N           NaN             NaN             NaN            NaN   \n",
       "2             N           NaN             NaN             NaN            NaN   \n",
       "3             N           NaN             NaN             NaN            NaN   \n",
       "4             N           NaN             NaN             NaN            NaN   \n",
       "\n",
       "   hardship_amount hardship_start_date hardship_end_date  \\\n",
       "0              NaN                 NaN               NaN   \n",
       "1              NaN                 NaN               NaN   \n",
       "2              NaN                 NaN               NaN   \n",
       "3              NaN                 NaN               NaN   \n",
       "4              NaN                 NaN               NaN   \n",
       "\n",
       "  payment_plan_start_date  hardship_length  hardship_dpd hardship_loan_status  \\\n",
       "0                     NaN              NaN           NaN                  NaN   \n",
       "1                     NaN              NaN           NaN                  NaN   \n",
       "2                     NaN              NaN           NaN                  NaN   \n",
       "3                     NaN              NaN           NaN                  NaN   \n",
       "4                     NaN              NaN           NaN                  NaN   \n",
       "\n",
       "   orig_projected_additional_accrued_interest  hardship_payoff_balance_amount  \\\n",
       "0                                         NaN                             NaN   \n",
       "1                                         NaN                             NaN   \n",
       "2                                         NaN                             NaN   \n",
       "3                                         NaN                             NaN   \n",
       "4                                         NaN                             NaN   \n",
       "\n",
       "   hardship_last_payment_amount disbursement_method debt_settlement_flag  \\\n",
       "0                           NaN                Cash                    N   \n",
       "1                           NaN                Cash                    N   \n",
       "2                           NaN                Cash                    N   \n",
       "3                           NaN                Cash                    N   \n",
       "4                           NaN                Cash                    N   \n",
       "\n",
       "  debt_settlement_flag_date settlement_status settlement_date  \\\n",
       "0                       NaN               NaN             NaN   \n",
       "1                       NaN               NaN             NaN   \n",
       "2                       NaN               NaN             NaN   \n",
       "3                       NaN               NaN             NaN   \n",
       "4                       NaN               NaN             NaN   \n",
       "\n",
       "   settlement_amount  settlement_percentage  settlement_term  \n",
       "0                NaN                    NaN              NaN  \n",
       "1                NaN                    NaN              NaN  \n",
       "2                NaN                    NaN              NaN  \n",
       "3                NaN                    NaN              NaN  \n",
       "4                NaN                    NaN              NaN  "
      ]
     },
     "execution_count": 3,
     "metadata": {
      "tags": []
     },
     "output_type": "execute_result"
    }
   ],
   "source": [
    "print(df_accepted.shape)\n",
    "df_accepted.head()"
   ]
  },
  {
   "cell_type": "code",
   "execution_count": null,
   "id": "pressed-custody",
   "metadata": {
    "id": "peaceful-hammer",
    "outputId": "b82b325c-40b7-4891-b57e-04a4e335096a"
   },
   "outputs": [
    {
     "name": "stdout",
     "output_type": "stream",
     "text": [
      "(27648741, 9)\n"
     ]
    },
    {
     "data": {
      "text/html": [
       "<div>\n",
       "<style scoped>\n",
       "    .dataframe tbody tr th:only-of-type {\n",
       "        vertical-align: middle;\n",
       "    }\n",
       "\n",
       "    .dataframe tbody tr th {\n",
       "        vertical-align: top;\n",
       "    }\n",
       "\n",
       "    .dataframe thead th {\n",
       "        text-align: right;\n",
       "    }\n",
       "</style>\n",
       "<table border=\"1\" class=\"dataframe\">\n",
       "  <thead>\n",
       "    <tr style=\"text-align: right;\">\n",
       "      <th></th>\n",
       "      <th>Amount Requested</th>\n",
       "      <th>Application Date</th>\n",
       "      <th>Loan Title</th>\n",
       "      <th>Risk_Score</th>\n",
       "      <th>Debt-To-Income Ratio</th>\n",
       "      <th>Zip Code</th>\n",
       "      <th>State</th>\n",
       "      <th>Employment Length</th>\n",
       "      <th>Policy Code</th>\n",
       "    </tr>\n",
       "  </thead>\n",
       "  <tbody>\n",
       "    <tr>\n",
       "      <td>0</td>\n",
       "      <td>1000.0</td>\n",
       "      <td>2007-05-26</td>\n",
       "      <td>Wedding Covered but No Honeymoon</td>\n",
       "      <td>693.0</td>\n",
       "      <td>10%</td>\n",
       "      <td>481xx</td>\n",
       "      <td>NM</td>\n",
       "      <td>4 years</td>\n",
       "      <td>0.0</td>\n",
       "    </tr>\n",
       "    <tr>\n",
       "      <td>1</td>\n",
       "      <td>1000.0</td>\n",
       "      <td>2007-05-26</td>\n",
       "      <td>Consolidating Debt</td>\n",
       "      <td>703.0</td>\n",
       "      <td>10%</td>\n",
       "      <td>010xx</td>\n",
       "      <td>MA</td>\n",
       "      <td>&lt; 1 year</td>\n",
       "      <td>0.0</td>\n",
       "    </tr>\n",
       "    <tr>\n",
       "      <td>2</td>\n",
       "      <td>11000.0</td>\n",
       "      <td>2007-05-27</td>\n",
       "      <td>Want to consolidate my debt</td>\n",
       "      <td>715.0</td>\n",
       "      <td>10%</td>\n",
       "      <td>212xx</td>\n",
       "      <td>MD</td>\n",
       "      <td>1 year</td>\n",
       "      <td>0.0</td>\n",
       "    </tr>\n",
       "    <tr>\n",
       "      <td>3</td>\n",
       "      <td>6000.0</td>\n",
       "      <td>2007-05-27</td>\n",
       "      <td>waksman</td>\n",
       "      <td>698.0</td>\n",
       "      <td>38.64%</td>\n",
       "      <td>017xx</td>\n",
       "      <td>MA</td>\n",
       "      <td>&lt; 1 year</td>\n",
       "      <td>0.0</td>\n",
       "    </tr>\n",
       "    <tr>\n",
       "      <td>4</td>\n",
       "      <td>1500.0</td>\n",
       "      <td>2007-05-27</td>\n",
       "      <td>mdrigo</td>\n",
       "      <td>509.0</td>\n",
       "      <td>9.43%</td>\n",
       "      <td>209xx</td>\n",
       "      <td>MD</td>\n",
       "      <td>&lt; 1 year</td>\n",
       "      <td>0.0</td>\n",
       "    </tr>\n",
       "  </tbody>\n",
       "</table>\n",
       "</div>"
      ],
      "text/plain": [
       "   Amount Requested Application Date                        Loan Title  \\\n",
       "0            1000.0       2007-05-26  Wedding Covered but No Honeymoon   \n",
       "1            1000.0       2007-05-26                Consolidating Debt   \n",
       "2           11000.0       2007-05-27       Want to consolidate my debt   \n",
       "3            6000.0       2007-05-27                           waksman   \n",
       "4            1500.0       2007-05-27                            mdrigo   \n",
       "\n",
       "   Risk_Score Debt-To-Income Ratio Zip Code State Employment Length  \\\n",
       "0       693.0                  10%    481xx    NM           4 years   \n",
       "1       703.0                  10%    010xx    MA          < 1 year   \n",
       "2       715.0                  10%    212xx    MD            1 year   \n",
       "3       698.0               38.64%    017xx    MA          < 1 year   \n",
       "4       509.0                9.43%    209xx    MD          < 1 year   \n",
       "\n",
       "   Policy Code  \n",
       "0          0.0  \n",
       "1          0.0  \n",
       "2          0.0  \n",
       "3          0.0  \n",
       "4          0.0  "
      ]
     },
     "execution_count": 4,
     "metadata": {
      "tags": []
     },
     "output_type": "execute_result"
    }
   ],
   "source": [
    "print(df_rejected.shape)\n",
    "df_rejected.head()"
   ]
  },
  {
   "cell_type": "code",
   "execution_count": 19,
   "id": "arbitrary-corps",
   "metadata": {
    "id": "magnetic-pleasure"
   },
   "outputs": [],
   "source": [
    "df_rejected['Debt-To-Income Ratio']= df_rejected['Debt-To-Income Ratio'].str.rstrip('%')"
   ]
  },
  {
   "cell_type": "code",
   "execution_count": null,
   "id": "coated-guitar",
   "metadata": {
    "id": "adjacent-retention",
    "outputId": "3263aeea-20d3-49f5-8cd3-b302701c5262"
   },
   "outputs": [
    {
     "data": {
      "text/html": [
       "<div>\n",
       "<style scoped>\n",
       "    .dataframe tbody tr th:only-of-type {\n",
       "        vertical-align: middle;\n",
       "    }\n",
       "\n",
       "    .dataframe tbody tr th {\n",
       "        vertical-align: top;\n",
       "    }\n",
       "\n",
       "    .dataframe thead th {\n",
       "        text-align: right;\n",
       "    }\n",
       "</style>\n",
       "<table border=\"1\" class=\"dataframe\">\n",
       "  <thead>\n",
       "    <tr style=\"text-align: right;\">\n",
       "      <th></th>\n",
       "      <th>Amount Requested</th>\n",
       "      <th>Application Date</th>\n",
       "      <th>Loan Title</th>\n",
       "      <th>Risk_Score</th>\n",
       "      <th>Debt-To-Income Ratio</th>\n",
       "      <th>Zip Code</th>\n",
       "      <th>State</th>\n",
       "      <th>Employment Length</th>\n",
       "      <th>Policy Code</th>\n",
       "    </tr>\n",
       "  </thead>\n",
       "  <tbody>\n",
       "    <tr>\n",
       "      <td>0</td>\n",
       "      <td>1000.0</td>\n",
       "      <td>2007-05-26</td>\n",
       "      <td>Wedding Covered but No Honeymoon</td>\n",
       "      <td>693.0</td>\n",
       "      <td>10</td>\n",
       "      <td>481xx</td>\n",
       "      <td>NM</td>\n",
       "      <td>4 years</td>\n",
       "      <td>0.0</td>\n",
       "    </tr>\n",
       "    <tr>\n",
       "      <td>1</td>\n",
       "      <td>1000.0</td>\n",
       "      <td>2007-05-26</td>\n",
       "      <td>Consolidating Debt</td>\n",
       "      <td>703.0</td>\n",
       "      <td>10</td>\n",
       "      <td>010xx</td>\n",
       "      <td>MA</td>\n",
       "      <td>&lt; 1 year</td>\n",
       "      <td>0.0</td>\n",
       "    </tr>\n",
       "    <tr>\n",
       "      <td>2</td>\n",
       "      <td>11000.0</td>\n",
       "      <td>2007-05-27</td>\n",
       "      <td>Want to consolidate my debt</td>\n",
       "      <td>715.0</td>\n",
       "      <td>10</td>\n",
       "      <td>212xx</td>\n",
       "      <td>MD</td>\n",
       "      <td>1 year</td>\n",
       "      <td>0.0</td>\n",
       "    </tr>\n",
       "    <tr>\n",
       "      <td>3</td>\n",
       "      <td>6000.0</td>\n",
       "      <td>2007-05-27</td>\n",
       "      <td>waksman</td>\n",
       "      <td>698.0</td>\n",
       "      <td>38.64</td>\n",
       "      <td>017xx</td>\n",
       "      <td>MA</td>\n",
       "      <td>&lt; 1 year</td>\n",
       "      <td>0.0</td>\n",
       "    </tr>\n",
       "    <tr>\n",
       "      <td>4</td>\n",
       "      <td>1500.0</td>\n",
       "      <td>2007-05-27</td>\n",
       "      <td>mdrigo</td>\n",
       "      <td>509.0</td>\n",
       "      <td>9.43</td>\n",
       "      <td>209xx</td>\n",
       "      <td>MD</td>\n",
       "      <td>&lt; 1 year</td>\n",
       "      <td>0.0</td>\n",
       "    </tr>\n",
       "  </tbody>\n",
       "</table>\n",
       "</div>"
      ],
      "text/plain": [
       "   Amount Requested Application Date                        Loan Title  \\\n",
       "0            1000.0       2007-05-26  Wedding Covered but No Honeymoon   \n",
       "1            1000.0       2007-05-26                Consolidating Debt   \n",
       "2           11000.0       2007-05-27       Want to consolidate my debt   \n",
       "3            6000.0       2007-05-27                           waksman   \n",
       "4            1500.0       2007-05-27                            mdrigo   \n",
       "\n",
       "   Risk_Score Debt-To-Income Ratio Zip Code State Employment Length  \\\n",
       "0       693.0                   10    481xx    NM           4 years   \n",
       "1       703.0                   10    010xx    MA          < 1 year   \n",
       "2       715.0                   10    212xx    MD            1 year   \n",
       "3       698.0                38.64    017xx    MA          < 1 year   \n",
       "4       509.0                 9.43    209xx    MD          < 1 year   \n",
       "\n",
       "   Policy Code  \n",
       "0          0.0  \n",
       "1          0.0  \n",
       "2          0.0  \n",
       "3          0.0  \n",
       "4          0.0  "
      ]
     },
     "execution_count": 6,
     "metadata": {
      "tags": []
     },
     "output_type": "execute_result"
    }
   ],
   "source": [
    "df_rejected.head()"
   ]
  },
  {
   "cell_type": "code",
   "execution_count": 20,
   "id": "athletic-spider",
   "metadata": {
    "id": "inside-tournament",
    "outputId": "16512a70-c6f3-477f-972f-2f347b26853d"
   },
   "outputs": [
    {
     "data": {
      "text/html": [
       "<div>\n",
       "<style scoped>\n",
       "    .dataframe tbody tr th:only-of-type {\n",
       "        vertical-align: middle;\n",
       "    }\n",
       "\n",
       "    .dataframe tbody tr th {\n",
       "        vertical-align: top;\n",
       "    }\n",
       "\n",
       "    .dataframe thead th {\n",
       "        text-align: right;\n",
       "    }\n",
       "</style>\n",
       "<table border=\"1\" class=\"dataframe\">\n",
       "  <thead>\n",
       "    <tr style=\"text-align: right;\">\n",
       "      <th></th>\n",
       "      <th>loan_amnt</th>\n",
       "      <th>dti</th>\n",
       "      <th>title</th>\n",
       "      <th>zip_code</th>\n",
       "      <th>addr_state</th>\n",
       "      <th>fico_range_high</th>\n",
       "      <th>emp_length</th>\n",
       "    </tr>\n",
       "  </thead>\n",
       "  <tbody>\n",
       "    <tr>\n",
       "      <td>0</td>\n",
       "      <td>3600.0</td>\n",
       "      <td>5.91</td>\n",
       "      <td>Debt consolidation</td>\n",
       "      <td>190xx</td>\n",
       "      <td>PA</td>\n",
       "      <td>679.0</td>\n",
       "      <td>10+ years</td>\n",
       "    </tr>\n",
       "    <tr>\n",
       "      <td>1</td>\n",
       "      <td>24700.0</td>\n",
       "      <td>16.06</td>\n",
       "      <td>Business</td>\n",
       "      <td>577xx</td>\n",
       "      <td>SD</td>\n",
       "      <td>719.0</td>\n",
       "      <td>10+ years</td>\n",
       "    </tr>\n",
       "    <tr>\n",
       "      <td>2</td>\n",
       "      <td>20000.0</td>\n",
       "      <td>10.78</td>\n",
       "      <td>NaN</td>\n",
       "      <td>605xx</td>\n",
       "      <td>IL</td>\n",
       "      <td>699.0</td>\n",
       "      <td>10+ years</td>\n",
       "    </tr>\n",
       "    <tr>\n",
       "      <td>3</td>\n",
       "      <td>35000.0</td>\n",
       "      <td>17.06</td>\n",
       "      <td>Debt consolidation</td>\n",
       "      <td>076xx</td>\n",
       "      <td>NJ</td>\n",
       "      <td>789.0</td>\n",
       "      <td>10+ years</td>\n",
       "    </tr>\n",
       "    <tr>\n",
       "      <td>4</td>\n",
       "      <td>10400.0</td>\n",
       "      <td>25.37</td>\n",
       "      <td>Major purchase</td>\n",
       "      <td>174xx</td>\n",
       "      <td>PA</td>\n",
       "      <td>699.0</td>\n",
       "      <td>3 years</td>\n",
       "    </tr>\n",
       "    <tr>\n",
       "      <td>...</td>\n",
       "      <td>...</td>\n",
       "      <td>...</td>\n",
       "      <td>...</td>\n",
       "      <td>...</td>\n",
       "      <td>...</td>\n",
       "      <td>...</td>\n",
       "      <td>...</td>\n",
       "    </tr>\n",
       "    <tr>\n",
       "      <td>2260696</td>\n",
       "      <td>40000.0</td>\n",
       "      <td>12.75</td>\n",
       "      <td>NaN</td>\n",
       "      <td>907xx</td>\n",
       "      <td>CA</td>\n",
       "      <td>709.0</td>\n",
       "      <td>9 years</td>\n",
       "    </tr>\n",
       "    <tr>\n",
       "      <td>2260697</td>\n",
       "      <td>24000.0</td>\n",
       "      <td>18.30</td>\n",
       "      <td>Debt consolidation</td>\n",
       "      <td>334xx</td>\n",
       "      <td>FL</td>\n",
       "      <td>664.0</td>\n",
       "      <td>6 years</td>\n",
       "    </tr>\n",
       "    <tr>\n",
       "      <td>2260698</td>\n",
       "      <td>14000.0</td>\n",
       "      <td>23.36</td>\n",
       "      <td>NaN</td>\n",
       "      <td>770xx</td>\n",
       "      <td>TX</td>\n",
       "      <td>664.0</td>\n",
       "      <td>10+ years</td>\n",
       "    </tr>\n",
       "    <tr>\n",
       "      <td>2260699</td>\n",
       "      <td>NaN</td>\n",
       "      <td>NaN</td>\n",
       "      <td>NaN</td>\n",
       "      <td>NaN</td>\n",
       "      <td>NaN</td>\n",
       "      <td>NaN</td>\n",
       "      <td>NaN</td>\n",
       "    </tr>\n",
       "    <tr>\n",
       "      <td>2260700</td>\n",
       "      <td>NaN</td>\n",
       "      <td>NaN</td>\n",
       "      <td>NaN</td>\n",
       "      <td>NaN</td>\n",
       "      <td>NaN</td>\n",
       "      <td>NaN</td>\n",
       "      <td>NaN</td>\n",
       "    </tr>\n",
       "  </tbody>\n",
       "</table>\n",
       "<p>2260701 rows × 7 columns</p>\n",
       "</div>"
      ],
      "text/plain": [
       "         loan_amnt    dti               title zip_code addr_state  \\\n",
       "0           3600.0   5.91  Debt consolidation    190xx         PA   \n",
       "1          24700.0  16.06            Business    577xx         SD   \n",
       "2          20000.0  10.78                 NaN    605xx         IL   \n",
       "3          35000.0  17.06  Debt consolidation    076xx         NJ   \n",
       "4          10400.0  25.37      Major purchase    174xx         PA   \n",
       "...            ...    ...                 ...      ...        ...   \n",
       "2260696    40000.0  12.75                 NaN    907xx         CA   \n",
       "2260697    24000.0  18.30  Debt consolidation    334xx         FL   \n",
       "2260698    14000.0  23.36                 NaN    770xx         TX   \n",
       "2260699        NaN    NaN                 NaN      NaN        NaN   \n",
       "2260700        NaN    NaN                 NaN      NaN        NaN   \n",
       "\n",
       "         fico_range_high emp_length  \n",
       "0                  679.0  10+ years  \n",
       "1                  719.0  10+ years  \n",
       "2                  699.0  10+ years  \n",
       "3                  789.0  10+ years  \n",
       "4                  699.0    3 years  \n",
       "...                  ...        ...  \n",
       "2260696            709.0    9 years  \n",
       "2260697            664.0    6 years  \n",
       "2260698            664.0  10+ years  \n",
       "2260699              NaN        NaN  \n",
       "2260700              NaN        NaN  \n",
       "\n",
       "[2260701 rows x 7 columns]"
      ]
     },
     "execution_count": 20,
     "metadata": {},
     "output_type": "execute_result"
    }
   ],
   "source": [
    "df_acpt_new = df_accepted[['loan_amnt','dti','title','zip_code','addr_state','fico_range_high','emp_length']]\n",
    "df_acpt_new"
   ]
  },
  {
   "cell_type": "code",
   "execution_count": 21,
   "id": "legislative-mumbai",
   "metadata": {
    "id": "discrete-governor"
   },
   "outputs": [],
   "source": [
    "columns=['Loan_Amount','Debt_To_Income_Ratio','Purpose','Zip_Code','State','Risk_Score','Employment_Length']\n",
    "df_acpt_new.columns=columns"
   ]
  },
  {
   "cell_type": "code",
   "execution_count": 22,
   "id": "beneficial-upper",
   "metadata": {
    "id": "necessary-fields",
    "outputId": "9f5e0284-af2c-4f51-e05b-a5e1c08c63d2"
   },
   "outputs": [
    {
     "name": "stderr",
     "output_type": "stream",
     "text": [
      "C:\\Users\\Debas\\Anaconda3\\lib\\site-packages\\ipykernel_launcher.py:1: SettingWithCopyWarning: \n",
      "A value is trying to be set on a copy of a slice from a DataFrame.\n",
      "Try using .loc[row_indexer,col_indexer] = value instead\n",
      "\n",
      "See the caveats in the documentation: http://pandas.pydata.org/pandas-docs/stable/user_guide/indexing.html#returning-a-view-versus-a-copy\n",
      "  \"\"\"Entry point for launching an IPython kernel.\n"
     ]
    }
   ],
   "source": [
    "df_acpt_new['Loan_status'] = 1"
   ]
  },
  {
   "cell_type": "code",
   "execution_count": 23,
   "id": "dramatic-angola",
   "metadata": {
    "id": "unlimited-tension",
    "outputId": "1b17dcfe-ed4f-435e-80d6-a4122c20929c"
   },
   "outputs": [
    {
     "data": {
      "text/plain": [
       "(2260701, 8)"
      ]
     },
     "execution_count": 23,
     "metadata": {},
     "output_type": "execute_result"
    }
   ],
   "source": [
    "df_acpt_new.shape"
   ]
  },
  {
   "cell_type": "code",
   "execution_count": null,
   "id": "copyrighted-hotel",
   "metadata": {
    "id": "smart-shoulder",
    "outputId": "637af43e-9f09-4797-8be3-035e107e9a58"
   },
   "outputs": [
    {
     "data": {
      "text/html": [
       "<div>\n",
       "<style scoped>\n",
       "    .dataframe tbody tr th:only-of-type {\n",
       "        vertical-align: middle;\n",
       "    }\n",
       "\n",
       "    .dataframe tbody tr th {\n",
       "        vertical-align: top;\n",
       "    }\n",
       "\n",
       "    .dataframe thead th {\n",
       "        text-align: right;\n",
       "    }\n",
       "</style>\n",
       "<table border=\"1\" class=\"dataframe\">\n",
       "  <thead>\n",
       "    <tr style=\"text-align: right;\">\n",
       "      <th></th>\n",
       "      <th>Amount Requested</th>\n",
       "      <th>Loan Title</th>\n",
       "      <th>Risk_Score</th>\n",
       "      <th>Debt-To-Income Ratio</th>\n",
       "      <th>Zip Code</th>\n",
       "      <th>State</th>\n",
       "      <th>Employment Length</th>\n",
       "    </tr>\n",
       "  </thead>\n",
       "  <tbody>\n",
       "    <tr>\n",
       "      <td>0</td>\n",
       "      <td>1000.0</td>\n",
       "      <td>Wedding Covered but No Honeymoon</td>\n",
       "      <td>693.0</td>\n",
       "      <td>10</td>\n",
       "      <td>481xx</td>\n",
       "      <td>NM</td>\n",
       "      <td>4 years</td>\n",
       "    </tr>\n",
       "    <tr>\n",
       "      <td>1</td>\n",
       "      <td>1000.0</td>\n",
       "      <td>Consolidating Debt</td>\n",
       "      <td>703.0</td>\n",
       "      <td>10</td>\n",
       "      <td>010xx</td>\n",
       "      <td>MA</td>\n",
       "      <td>&lt; 1 year</td>\n",
       "    </tr>\n",
       "    <tr>\n",
       "      <td>2</td>\n",
       "      <td>11000.0</td>\n",
       "      <td>Want to consolidate my debt</td>\n",
       "      <td>715.0</td>\n",
       "      <td>10</td>\n",
       "      <td>212xx</td>\n",
       "      <td>MD</td>\n",
       "      <td>1 year</td>\n",
       "    </tr>\n",
       "    <tr>\n",
       "      <td>3</td>\n",
       "      <td>6000.0</td>\n",
       "      <td>waksman</td>\n",
       "      <td>698.0</td>\n",
       "      <td>38.64</td>\n",
       "      <td>017xx</td>\n",
       "      <td>MA</td>\n",
       "      <td>&lt; 1 year</td>\n",
       "    </tr>\n",
       "    <tr>\n",
       "      <td>4</td>\n",
       "      <td>1500.0</td>\n",
       "      <td>mdrigo</td>\n",
       "      <td>509.0</td>\n",
       "      <td>9.43</td>\n",
       "      <td>209xx</td>\n",
       "      <td>MD</td>\n",
       "      <td>&lt; 1 year</td>\n",
       "    </tr>\n",
       "    <tr>\n",
       "      <td>...</td>\n",
       "      <td>...</td>\n",
       "      <td>...</td>\n",
       "      <td>...</td>\n",
       "      <td>...</td>\n",
       "      <td>...</td>\n",
       "      <td>...</td>\n",
       "      <td>...</td>\n",
       "    </tr>\n",
       "    <tr>\n",
       "      <td>27648736</td>\n",
       "      <td>10000.0</td>\n",
       "      <td>Debt consolidation</td>\n",
       "      <td>590.0</td>\n",
       "      <td>41.26</td>\n",
       "      <td>441xx</td>\n",
       "      <td>OH</td>\n",
       "      <td>&lt; 1 year</td>\n",
       "    </tr>\n",
       "    <tr>\n",
       "      <td>27648737</td>\n",
       "      <td>10000.0</td>\n",
       "      <td>moving</td>\n",
       "      <td>NaN</td>\n",
       "      <td>1.48</td>\n",
       "      <td>207xx</td>\n",
       "      <td>MD</td>\n",
       "      <td>5 years</td>\n",
       "    </tr>\n",
       "    <tr>\n",
       "      <td>27648738</td>\n",
       "      <td>1200.0</td>\n",
       "      <td>Other</td>\n",
       "      <td>686.0</td>\n",
       "      <td>10.26</td>\n",
       "      <td>914xx</td>\n",
       "      <td>CA</td>\n",
       "      <td>&lt; 1 year</td>\n",
       "    </tr>\n",
       "    <tr>\n",
       "      <td>27648739</td>\n",
       "      <td>25000.0</td>\n",
       "      <td>debt_consolidation</td>\n",
       "      <td>NaN</td>\n",
       "      <td>17.71</td>\n",
       "      <td>880xx</td>\n",
       "      <td>NM</td>\n",
       "      <td>&lt; 1 year</td>\n",
       "    </tr>\n",
       "    <tr>\n",
       "      <td>27648740</td>\n",
       "      <td>15000.0</td>\n",
       "      <td>Business</td>\n",
       "      <td>684.0</td>\n",
       "      <td>10.58</td>\n",
       "      <td>113xx</td>\n",
       "      <td>NY</td>\n",
       "      <td>&lt; 1 year</td>\n",
       "    </tr>\n",
       "  </tbody>\n",
       "</table>\n",
       "<p>27648741 rows × 7 columns</p>\n",
       "</div>"
      ],
      "text/plain": [
       "          Amount Requested                        Loan Title  Risk_Score  \\\n",
       "0                   1000.0  Wedding Covered but No Honeymoon       693.0   \n",
       "1                   1000.0                Consolidating Debt       703.0   \n",
       "2                  11000.0       Want to consolidate my debt       715.0   \n",
       "3                   6000.0                           waksman       698.0   \n",
       "4                   1500.0                            mdrigo       509.0   \n",
       "...                    ...                               ...         ...   \n",
       "27648736           10000.0                Debt consolidation       590.0   \n",
       "27648737           10000.0                            moving         NaN   \n",
       "27648738            1200.0                             Other       686.0   \n",
       "27648739           25000.0                debt_consolidation         NaN   \n",
       "27648740           15000.0                          Business       684.0   \n",
       "\n",
       "         Debt-To-Income Ratio Zip Code State Employment Length  \n",
       "0                          10    481xx    NM           4 years  \n",
       "1                          10    010xx    MA          < 1 year  \n",
       "2                          10    212xx    MD            1 year  \n",
       "3                       38.64    017xx    MA          < 1 year  \n",
       "4                        9.43    209xx    MD          < 1 year  \n",
       "...                       ...      ...   ...               ...  \n",
       "27648736                41.26    441xx    OH          < 1 year  \n",
       "27648737                 1.48    207xx    MD           5 years  \n",
       "27648738                10.26    914xx    CA          < 1 year  \n",
       "27648739                17.71    880xx    NM          < 1 year  \n",
       "27648740                10.58    113xx    NY          < 1 year  \n",
       "\n",
       "[27648741 rows x 7 columns]"
      ]
     },
     "execution_count": 11,
     "metadata": {
      "tags": []
     },
     "output_type": "execute_result"
    }
   ],
   "source": [
    "df_rej_new = df_rejected.drop(['Application Date','Policy Code'],axis=1)\n",
    "df_rej_new"
   ]
  },
  {
   "cell_type": "code",
   "execution_count": 24,
   "id": "japanese-choice",
   "metadata": {
    "id": "talented-associate"
   },
   "outputs": [
    {
     "ename": "NameError",
     "evalue": "name 'df_rej_new' is not defined",
     "output_type": "error",
     "traceback": [
      "\u001b[1;31m---------------------------------------------------------------------------\u001b[0m",
      "\u001b[1;31mNameError\u001b[0m                                 Traceback (most recent call last)",
      "\u001b[1;32m<ipython-input-24-4430980baf4e>\u001b[0m in \u001b[0;36m<module>\u001b[1;34m\u001b[0m\n\u001b[0;32m      1\u001b[0m \u001b[0mcolumns\u001b[0m\u001b[1;33m=\u001b[0m\u001b[1;33m[\u001b[0m\u001b[1;34m'Loan_Amount'\u001b[0m\u001b[1;33m,\u001b[0m\u001b[1;34m'Purpose'\u001b[0m\u001b[1;33m,\u001b[0m\u001b[1;34m'Risk_Score'\u001b[0m\u001b[1;33m,\u001b[0m\u001b[1;34m'Debt_To_Income_Ratio'\u001b[0m\u001b[1;33m,\u001b[0m\u001b[1;34m'Zip_Code'\u001b[0m\u001b[1;33m,\u001b[0m\u001b[1;34m'State'\u001b[0m\u001b[1;33m,\u001b[0m\u001b[1;34m'Employment_Length'\u001b[0m\u001b[1;33m]\u001b[0m\u001b[1;33m\u001b[0m\u001b[1;33m\u001b[0m\u001b[0m\n\u001b[1;32m----> 2\u001b[1;33m \u001b[0mdf_rej_new\u001b[0m\u001b[1;33m.\u001b[0m\u001b[0mcolumns\u001b[0m\u001b[1;33m=\u001b[0m\u001b[0mcolumns\u001b[0m\u001b[1;33m\u001b[0m\u001b[1;33m\u001b[0m\u001b[0m\n\u001b[0m",
      "\u001b[1;31mNameError\u001b[0m: name 'df_rej_new' is not defined"
     ]
    }
   ],
   "source": [
    "columns=['Loan_Amount','Purpose','Risk_Score','Debt_To_Income_Ratio','Zip_Code','State','Employment_Length']\n",
    "df_rej_new.columns=columns"
   ]
  },
  {
   "cell_type": "code",
   "execution_count": null,
   "id": "determined-weather",
   "metadata": {
    "id": "constitutional-summit"
   },
   "outputs": [],
   "source": [
    "df_rej_new['Loan_status'] = 0"
   ]
  },
  {
   "cell_type": "code",
   "execution_count": null,
   "id": "delayed-neighborhood",
   "metadata": {
    "id": "binding-snapshot",
    "outputId": "6e5330f3-8520-4e77-f9df-643d64aec522"
   },
   "outputs": [],
   "source": [
    "df_rej_new.shape"
   ]
  },
  {
   "cell_type": "code",
   "execution_count": null,
   "id": "abandoned-paper",
   "metadata": {
    "id": "greek-recognition",
    "outputId": "42ff6559-6542-4359-d4c4-e56423f22d07"
   },
   "outputs": [],
   "source": [
    "df_loan = pd.concat([df_acpt_new, df_rej_new])"
   ]
  },
  {
   "cell_type": "code",
   "execution_count": null,
   "id": "catholic-amber",
   "metadata": {
    "id": "devoted-shirt",
    "outputId": "b6adede7-8520-411e-e4e4-7ed0108d5a34"
   },
   "outputs": [],
   "source": [
    "df_loan.shape"
   ]
  },
  {
   "cell_type": "code",
   "execution_count": null,
   "id": "complimentary-estonia",
   "metadata": {
    "id": "norman-treaty"
   },
   "outputs": [],
   "source": [
    "#df_loan.to_csv(\"Loan_Approval.csv\",index=False)"
   ]
  },
  {
   "cell_type": "code",
   "execution_count": 7,
   "id": "extended-deposit",
   "metadata": {
    "id": "circular-procedure"
   },
   "outputs": [],
   "source": [
    "df_loan = pd.read_csv(\"Loan_Approval.csv\")"
   ]
  },
  {
   "cell_type": "code",
   "execution_count": 8,
   "id": "wrapped-posting",
   "metadata": {
    "colab": {
     "base_uri": "https://localhost:8080/",
     "height": 195
    },
    "id": "published-muscle",
    "outputId": "2e7f0c51-e5df-4e7d-bbd8-5b9b5260aa69"
   },
   "outputs": [
    {
     "data": {
      "text/html": [
       "<div>\n",
       "<style scoped>\n",
       "    .dataframe tbody tr th:only-of-type {\n",
       "        vertical-align: middle;\n",
       "    }\n",
       "\n",
       "    .dataframe tbody tr th {\n",
       "        vertical-align: top;\n",
       "    }\n",
       "\n",
       "    .dataframe thead th {\n",
       "        text-align: right;\n",
       "    }\n",
       "</style>\n",
       "<table border=\"1\" class=\"dataframe\">\n",
       "  <thead>\n",
       "    <tr style=\"text-align: right;\">\n",
       "      <th></th>\n",
       "      <th>Debt_To_Income_Ratio</th>\n",
       "      <th>Employment_Length</th>\n",
       "      <th>Loan_Amount</th>\n",
       "      <th>Loan_status</th>\n",
       "      <th>Purpose</th>\n",
       "      <th>Risk_Score</th>\n",
       "      <th>State</th>\n",
       "      <th>Zip_Code</th>\n",
       "    </tr>\n",
       "  </thead>\n",
       "  <tbody>\n",
       "    <tr>\n",
       "      <td>0</td>\n",
       "      <td>5.91</td>\n",
       "      <td>10+ years</td>\n",
       "      <td>3600.0</td>\n",
       "      <td>1</td>\n",
       "      <td>Debt consolidation</td>\n",
       "      <td>679.0</td>\n",
       "      <td>PA</td>\n",
       "      <td>190xx</td>\n",
       "    </tr>\n",
       "    <tr>\n",
       "      <td>1</td>\n",
       "      <td>16.06</td>\n",
       "      <td>10+ years</td>\n",
       "      <td>24700.0</td>\n",
       "      <td>1</td>\n",
       "      <td>Business</td>\n",
       "      <td>719.0</td>\n",
       "      <td>SD</td>\n",
       "      <td>577xx</td>\n",
       "    </tr>\n",
       "    <tr>\n",
       "      <td>2</td>\n",
       "      <td>10.78</td>\n",
       "      <td>10+ years</td>\n",
       "      <td>20000.0</td>\n",
       "      <td>1</td>\n",
       "      <td>NaN</td>\n",
       "      <td>699.0</td>\n",
       "      <td>IL</td>\n",
       "      <td>605xx</td>\n",
       "    </tr>\n",
       "    <tr>\n",
       "      <td>3</td>\n",
       "      <td>17.06</td>\n",
       "      <td>10+ years</td>\n",
       "      <td>35000.0</td>\n",
       "      <td>1</td>\n",
       "      <td>Debt consolidation</td>\n",
       "      <td>789.0</td>\n",
       "      <td>NJ</td>\n",
       "      <td>076xx</td>\n",
       "    </tr>\n",
       "    <tr>\n",
       "      <td>4</td>\n",
       "      <td>25.37</td>\n",
       "      <td>3 years</td>\n",
       "      <td>10400.0</td>\n",
       "      <td>1</td>\n",
       "      <td>Major purchase</td>\n",
       "      <td>699.0</td>\n",
       "      <td>PA</td>\n",
       "      <td>174xx</td>\n",
       "    </tr>\n",
       "  </tbody>\n",
       "</table>\n",
       "</div>"
      ],
      "text/plain": [
       "   Debt_To_Income_Ratio Employment_Length  Loan_Amount  Loan_status  \\\n",
       "0                  5.91         10+ years       3600.0            1   \n",
       "1                 16.06         10+ years      24700.0            1   \n",
       "2                 10.78         10+ years      20000.0            1   \n",
       "3                 17.06         10+ years      35000.0            1   \n",
       "4                 25.37           3 years      10400.0            1   \n",
       "\n",
       "              Purpose  Risk_Score State Zip_Code  \n",
       "0  Debt consolidation       679.0    PA    190xx  \n",
       "1            Business       719.0    SD    577xx  \n",
       "2                 NaN       699.0    IL    605xx  \n",
       "3  Debt consolidation       789.0    NJ    076xx  \n",
       "4      Major purchase       699.0    PA    174xx  "
      ]
     },
     "execution_count": 8,
     "metadata": {},
     "output_type": "execute_result"
    }
   ],
   "source": [
    "df_loan.head()"
   ]
  },
  {
   "cell_type": "code",
   "execution_count": 9,
   "id": "minor-reflection",
   "metadata": {
    "colab": {
     "base_uri": "https://localhost:8080/"
    },
    "id": "animal-payday",
    "outputId": "b3903733-75ce-46e3-9b3b-e69e13e6c71d"
   },
   "outputs": [
    {
     "name": "stdout",
     "output_type": "stream",
     "text": [
      "<class 'pandas.core.frame.DataFrame'>\n",
      "RangeIndex: 29909442 entries, 0 to 29909441\n",
      "Data columns (total 8 columns):\n",
      "Debt_To_Income_Ratio    float64\n",
      "Employment_Length       object\n",
      "Loan_Amount             float64\n",
      "Loan_status             int64\n",
      "Purpose                 object\n",
      "Risk_Score              float64\n",
      "State                   object\n",
      "Zip_Code                object\n",
      "dtypes: float64(3), int64(1), object(4)\n",
      "memory usage: 1.8+ GB\n"
     ]
    }
   ],
   "source": [
    "df_loan.info()"
   ]
  },
  {
   "cell_type": "code",
   "execution_count": 10,
   "id": "palestinian-ready",
   "metadata": {
    "colab": {
     "base_uri": "https://localhost:8080/"
    },
    "id": "noble-paragraph",
    "outputId": "3ef765b8-55ea-4414-ad1f-78a1858d6888"
   },
   "outputs": [
    {
     "data": {
      "text/plain": [
       "Debt_To_Income_Ratio        1744\n",
       "Employment_Length        1098295\n",
       "Loan_Amount                   33\n",
       "Loan_status                    0\n",
       "Purpose                    24661\n",
       "Risk_Score              18497663\n",
       "State                         55\n",
       "Zip_Code                     327\n",
       "dtype: int64"
      ]
     },
     "execution_count": 10,
     "metadata": {},
     "output_type": "execute_result"
    }
   ],
   "source": [
    "df_loan.isnull().sum()"
   ]
  },
  {
   "cell_type": "code",
   "execution_count": 11,
   "id": "heated-giant",
   "metadata": {
    "colab": {
     "base_uri": "https://localhost:8080/"
    },
    "id": "invisible-tomorrow",
    "outputId": "560f8d29-755b-4bf0-8dbb-6fd964f72f25"
   },
   "outputs": [
    {
     "data": {
      "text/plain": [
       "Debt_To_Income_Ratio    0\n",
       "Employment_Length       0\n",
       "Loan_Amount             0\n",
       "Loan_status             0\n",
       "Purpose                 0\n",
       "Risk_Score              0\n",
       "State                   0\n",
       "Zip_Code                0\n",
       "dtype: int64"
      ]
     },
     "execution_count": 11,
     "metadata": {},
     "output_type": "execute_result"
    }
   ],
   "source": [
    "df_loan.dropna(inplace=True)\n",
    "df_loan.isnull().sum()"
   ]
  },
  {
   "cell_type": "code",
   "execution_count": 12,
   "id": "starting-amsterdam",
   "metadata": {
    "id": "abandoned-paragraph"
   },
   "outputs": [],
   "source": [
    "df_loan.drop(['State','Zip_Code'],axis=1,inplace=True)"
   ]
  },
  {
   "cell_type": "code",
   "execution_count": 13,
   "id": "angry-embassy",
   "metadata": {
    "colab": {
     "base_uri": "https://localhost:8080/"
    },
    "id": "sexual-mercury",
    "outputId": "ffdde69e-f43d-49ac-8b8d-74223b23d4b0"
   },
   "outputs": [
    {
     "data": {
      "text/plain": [
       "array(['10+ years', '3 years', '4 years', '6 years', '1 year', '7 years',\n",
       "       '8 years', '5 years', '2 years', '9 years', '< 1 year'],\n",
       "      dtype=object)"
      ]
     },
     "execution_count": 13,
     "metadata": {},
     "output_type": "execute_result"
    }
   ],
   "source": [
    "df_loan.Employment_Length.unique()"
   ]
  },
  {
   "cell_type": "code",
   "execution_count": 14,
   "id": "circular-canyon",
   "metadata": {
    "id": "heard-england"
   },
   "outputs": [],
   "source": [
    "df_loan['Employment_Length'] = df_loan['Employment_Length'].str.replace(r'\\D', '').astype(int)"
   ]
  },
  {
   "cell_type": "code",
   "execution_count": 15,
   "id": "opposed-option",
   "metadata": {
    "colab": {
     "base_uri": "https://localhost:8080/"
    },
    "id": "caring-density",
    "outputId": "40401f47-f4fd-4c0c-b945-0e018d399a1d"
   },
   "outputs": [
    {
     "data": {
      "text/plain": [
       "118355"
      ]
     },
     "execution_count": 15,
     "metadata": {},
     "output_type": "execute_result"
    }
   ],
   "source": [
    "df_loan.Purpose.nunique()"
   ]
  },
  {
   "cell_type": "code",
   "execution_count": 16,
   "id": "aerial-attribute",
   "metadata": {
    "id": "curious-effort"
   },
   "outputs": [],
   "source": [
    "df_loan.drop('Purpose',inplace=True,axis=1)"
   ]
  },
  {
   "cell_type": "code",
   "execution_count": 13,
   "id": "declared-closure",
   "metadata": {
    "colab": {
     "base_uri": "https://localhost:8080/",
     "height": 195
    },
    "id": "seven-entrance",
    "outputId": "0e42d16d-89eb-4477-dcdd-46a9d98af9cc"
   },
   "outputs": [
    {
     "data": {
      "text/html": [
       "<div>\n",
       "<style scoped>\n",
       "    .dataframe tbody tr th:only-of-type {\n",
       "        vertical-align: middle;\n",
       "    }\n",
       "\n",
       "    .dataframe tbody tr th {\n",
       "        vertical-align: top;\n",
       "    }\n",
       "\n",
       "    .dataframe thead th {\n",
       "        text-align: right;\n",
       "    }\n",
       "</style>\n",
       "<table border=\"1\" class=\"dataframe\">\n",
       "  <thead>\n",
       "    <tr style=\"text-align: right;\">\n",
       "      <th></th>\n",
       "      <th>Debt_To_Income_Ratio</th>\n",
       "      <th>Employment_Length</th>\n",
       "      <th>Loan_Amount</th>\n",
       "      <th>Loan_status</th>\n",
       "      <th>Risk_Score</th>\n",
       "    </tr>\n",
       "  </thead>\n",
       "  <tbody>\n",
       "    <tr>\n",
       "      <th>0</th>\n",
       "      <td>5.91</td>\n",
       "      <td>10</td>\n",
       "      <td>3600.0</td>\n",
       "      <td>1</td>\n",
       "      <td>679.0</td>\n",
       "    </tr>\n",
       "    <tr>\n",
       "      <th>1</th>\n",
       "      <td>16.06</td>\n",
       "      <td>10</td>\n",
       "      <td>24700.0</td>\n",
       "      <td>1</td>\n",
       "      <td>719.0</td>\n",
       "    </tr>\n",
       "    <tr>\n",
       "      <th>3</th>\n",
       "      <td>17.06</td>\n",
       "      <td>10</td>\n",
       "      <td>35000.0</td>\n",
       "      <td>1</td>\n",
       "      <td>789.0</td>\n",
       "    </tr>\n",
       "    <tr>\n",
       "      <th>4</th>\n",
       "      <td>25.37</td>\n",
       "      <td>3</td>\n",
       "      <td>10400.0</td>\n",
       "      <td>1</td>\n",
       "      <td>699.0</td>\n",
       "    </tr>\n",
       "    <tr>\n",
       "      <th>5</th>\n",
       "      <td>10.20</td>\n",
       "      <td>4</td>\n",
       "      <td>11950.0</td>\n",
       "      <td>1</td>\n",
       "      <td>694.0</td>\n",
       "    </tr>\n",
       "  </tbody>\n",
       "</table>\n",
       "</div>"
      ],
      "text/plain": [
       "   Debt_To_Income_Ratio  Employment_Length  Loan_Amount  Loan_status  \\\n",
       "0                  5.91                 10       3600.0            1   \n",
       "1                 16.06                 10      24700.0            1   \n",
       "3                 17.06                 10      35000.0            1   \n",
       "4                 25.37                  3      10400.0            1   \n",
       "5                 10.20                  4      11950.0            1   \n",
       "\n",
       "   Risk_Score  \n",
       "0       679.0  \n",
       "1       719.0  \n",
       "3       789.0  \n",
       "4       699.0  \n",
       "5       694.0  "
      ]
     },
     "execution_count": 13,
     "metadata": {
      "tags": []
     },
     "output_type": "execute_result"
    }
   ],
   "source": [
    "df_loan.head()"
   ]
  },
  {
   "cell_type": "code",
   "execution_count": 14,
   "id": "seasonal-supervisor",
   "metadata": {
    "colab": {
     "base_uri": "https://localhost:8080/"
    },
    "id": "administrative-integer",
    "outputId": "4012ebf7-5149-4ce3-c1cb-6260f80f4689"
   },
   "outputs": [
    {
     "data": {
      "text/plain": [
       "(11086103, 5)"
      ]
     },
     "execution_count": 14,
     "metadata": {
      "tags": []
     },
     "output_type": "execute_result"
    }
   ],
   "source": [
    "df_loan.shape"
   ]
  },
  {
   "cell_type": "code",
   "execution_count": 15,
   "id": "czech-stomach",
   "metadata": {
    "colab": {
     "base_uri": "https://localhost:8080/",
     "height": 284
    },
    "id": "faced-reviewer",
    "outputId": "fc8c3a4e-1f4f-4495-9965-d77b6bc33876"
   },
   "outputs": [
    {
     "data": {
      "text/html": [
       "<div>\n",
       "<style scoped>\n",
       "    .dataframe tbody tr th:only-of-type {\n",
       "        vertical-align: middle;\n",
       "    }\n",
       "\n",
       "    .dataframe tbody tr th {\n",
       "        vertical-align: top;\n",
       "    }\n",
       "\n",
       "    .dataframe thead th {\n",
       "        text-align: right;\n",
       "    }\n",
       "</style>\n",
       "<table border=\"1\" class=\"dataframe\">\n",
       "  <thead>\n",
       "    <tr style=\"text-align: right;\">\n",
       "      <th></th>\n",
       "      <th>Debt_To_Income_Ratio</th>\n",
       "      <th>Employment_Length</th>\n",
       "      <th>Loan_Amount</th>\n",
       "      <th>Loan_status</th>\n",
       "      <th>Risk_Score</th>\n",
       "    </tr>\n",
       "  </thead>\n",
       "  <tbody>\n",
       "    <tr>\n",
       "      <th>count</th>\n",
       "      <td>1.108610e+07</td>\n",
       "      <td>1.108610e+07</td>\n",
       "      <td>1.108610e+07</td>\n",
       "      <td>1.108610e+07</td>\n",
       "      <td>1.108610e+07</td>\n",
       "    </tr>\n",
       "    <tr>\n",
       "      <th>mean</th>\n",
       "      <td>1.410551e+02</td>\n",
       "      <td>2.299447e+00</td>\n",
       "      <td>1.312834e+04</td>\n",
       "      <td>1.888434e-01</td>\n",
       "      <td>6.415382e+02</td>\n",
       "    </tr>\n",
       "    <tr>\n",
       "      <th>std</th>\n",
       "      <td>1.600261e+04</td>\n",
       "      <td>2.804890e+00</td>\n",
       "      <td>1.065575e+04</td>\n",
       "      <td>3.913842e-01</td>\n",
       "      <td>8.733528e+01</td>\n",
       "    </tr>\n",
       "    <tr>\n",
       "      <th>min</th>\n",
       "      <td>-1.000000e+00</td>\n",
       "      <td>1.000000e+00</td>\n",
       "      <td>1.500000e+02</td>\n",
       "      <td>0.000000e+00</td>\n",
       "      <td>0.000000e+00</td>\n",
       "    </tr>\n",
       "    <tr>\n",
       "      <th>25%</th>\n",
       "      <td>9.880000e+00</td>\n",
       "      <td>1.000000e+00</td>\n",
       "      <td>5.000000e+03</td>\n",
       "      <td>0.000000e+00</td>\n",
       "      <td>6.030000e+02</td>\n",
       "    </tr>\n",
       "    <tr>\n",
       "      <th>50%</th>\n",
       "      <td>1.965000e+01</td>\n",
       "      <td>1.000000e+00</td>\n",
       "      <td>1.000000e+04</td>\n",
       "      <td>0.000000e+00</td>\n",
       "      <td>6.530000e+02</td>\n",
       "    </tr>\n",
       "    <tr>\n",
       "      <th>75%</th>\n",
       "      <td>3.283000e+01</td>\n",
       "      <td>1.000000e+00</td>\n",
       "      <td>2.000000e+04</td>\n",
       "      <td>0.000000e+00</td>\n",
       "      <td>6.890000e+02</td>\n",
       "    </tr>\n",
       "    <tr>\n",
       "      <th>max</th>\n",
       "      <td>5.000003e+07</td>\n",
       "      <td>1.000000e+01</td>\n",
       "      <td>1.400000e+06</td>\n",
       "      <td>1.000000e+00</td>\n",
       "      <td>9.900000e+02</td>\n",
       "    </tr>\n",
       "  </tbody>\n",
       "</table>\n",
       "</div>"
      ],
      "text/plain": [
       "       Debt_To_Income_Ratio  Employment_Length   Loan_Amount   Loan_status  \\\n",
       "count          1.108610e+07       1.108610e+07  1.108610e+07  1.108610e+07   \n",
       "mean           1.410551e+02       2.299447e+00  1.312834e+04  1.888434e-01   \n",
       "std            1.600261e+04       2.804890e+00  1.065575e+04  3.913842e-01   \n",
       "min           -1.000000e+00       1.000000e+00  1.500000e+02  0.000000e+00   \n",
       "25%            9.880000e+00       1.000000e+00  5.000000e+03  0.000000e+00   \n",
       "50%            1.965000e+01       1.000000e+00  1.000000e+04  0.000000e+00   \n",
       "75%            3.283000e+01       1.000000e+00  2.000000e+04  0.000000e+00   \n",
       "max            5.000003e+07       1.000000e+01  1.400000e+06  1.000000e+00   \n",
       "\n",
       "         Risk_Score  \n",
       "count  1.108610e+07  \n",
       "mean   6.415382e+02  \n",
       "std    8.733528e+01  \n",
       "min    0.000000e+00  \n",
       "25%    6.030000e+02  \n",
       "50%    6.530000e+02  \n",
       "75%    6.890000e+02  \n",
       "max    9.900000e+02  "
      ]
     },
     "execution_count": 15,
     "metadata": {
      "tags": []
     },
     "output_type": "execute_result"
    }
   ],
   "source": [
    "df_loan.describe()"
   ]
  },
  {
   "cell_type": "code",
   "execution_count": 17,
   "id": "powered-trial",
   "metadata": {
    "id": "perfect-referral"
   },
   "outputs": [
    {
     "data": {
      "image/png": "[encoded data removed]",
      "text/plain": [
       "<Figure size 1440x1440 with 30 Axes>"
      ]
     },
     "metadata": {
      "needs_background": "light"
     },
     "output_type": "display_data"
    }
   ],
   "source": [
    "sns.pairplot(df_loan,height=4)\n",
    "plt.show()"
   ]
  },
  {
   "cell_type": "code",
   "execution_count": 16,
   "id": "boring-induction",
   "metadata": {
    "colab": {
     "base_uri": "https://localhost:8080/",
     "height": 248
    },
    "id": "anonymous-growing",
    "outputId": "a12dffb7-5dcb-41b0-bdb7-24df98044a70"
   },
   "outputs": [
    {
     "data": {
      "image/png": "[encoded data removed]",
      "text/plain": [
       "<Figure size 432x288 with 1 Axes>"
      ]
     },
     "metadata": {
      "tags": []
     },
     "output_type": "display_data"
    }
   ],
   "source": [
    "labels=['Loan Accepted','Loan Rejected']\n",
    "plt.pie(df_loan.Loan_status.value_counts(),explode=[0.2,0],shadow=True,startangle=45,labels=labels,autopct='%1.0f%%')\n",
    "plt.show()"
   ]
  },
  {
   "cell_type": "code",
   "execution_count": 17,
   "id": "comprehensive-logistics",
   "metadata": {
    "colab": {
     "base_uri": "https://localhost:8080/",
     "height": 425
    },
    "id": "reserved-significance",
    "outputId": "797409e5-2cca-4fcc-a089-7857b686b291"
   },
   "outputs": [
    {
     "data": {
      "image/png": "[encoded data removed]",
      "text/plain": [
       "<Figure size 720x360 with 2 Axes>"
      ]
     },
     "metadata": {
      "needs_background": "light",
      "tags": []
     },
     "output_type": "display_data"
    }
   ],
   "source": [
    "plt.figure(figsize=(10,5))\n",
    "ax = sns.heatmap(df_loan.corr(),cmap='RdYlGn')\n",
    "bottom, top = ax.get_ylim()\n",
    "ax.set_ylim(bottom + 0.5, top - 0.5)\n",
    "plt.show()"
   ]
  },
  {
   "cell_type": "code",
   "execution_count": 18,
   "id": "eastern-exhibition",
   "metadata": {
    "id": "occupational-drunk"
   },
   "outputs": [],
   "source": [
    "X = df_loan.drop('Loan_status',axis=1)\n",
    "y = df_loan.Loan_status"
   ]
  },
  {
   "cell_type": "code",
   "execution_count": 19,
   "id": "moved-citizen",
   "metadata": {
    "id": "zjvcyTyKERsr"
   },
   "outputs": [],
   "source": [
    "from sklearn.metrics import classification_report,accuracy_score"
   ]
  },
  {
   "cell_type": "code",
   "execution_count": 20,
   "id": "potential-quest",
   "metadata": {
    "id": "plastic-fireplace"
   },
   "outputs": [],
   "source": [
    "from sklearn.model_selection import train_test_split\n",
    "X_train,X_test,y_train,y_test = train_test_split(X,y,test_size=0.2,random_state=55)"
   ]
  },
  {
   "cell_type": "code",
   "execution_count": 25,
   "id": "threatened-wound",
   "metadata": {
    "id": "retired-patrick"
   },
   "outputs": [],
   "source": [
    "from sklearn.preprocessing import StandardScaler\n",
    "sc=StandardScaler()\n",
    "X_train = sc.fit_transform(X_train)\n",
    "X_test = sc.transform(X_test)"
   ]
  },
  {
   "cell_type": "markdown",
   "id": "imported-sacramento",
   "metadata": {
    "id": "spanish-honolulu"
   },
   "source": [
    "## Logistic Regression"
   ]
  },
  {
   "cell_type": "code",
   "execution_count": null,
   "id": "demanding-positive",
   "metadata": {
    "colab": {
     "base_uri": "https://localhost:8080/"
    },
    "id": "literary-remainder",
    "outputId": "9ea4cf9b-7317-45e0-d58c-eb2e89c8761c"
   },
   "outputs": [
    {
     "data": {
      "text/plain": [
       "LogisticRegression(C=1.0, class_weight='balanced', dual=False,\n",
       "                   fit_intercept=True, intercept_scaling=1, l1_ratio=None,\n",
       "                   max_iter=100, multi_class='auto', n_jobs=None, penalty='l2',\n",
       "                   random_state=None, solver='lbfgs', tol=0.0001, verbose=0,\n",
       "                   warm_start=False)"
      ]
     },
     "execution_count": 29,
     "metadata": {
      "tags": []
     },
     "output_type": "execute_result"
    }
   ],
   "source": [
    "from sklearn.linear_model import LogisticRegression\n",
    "lr = LogisticRegression(class_weight=\"balanced\")\n",
    "lr.fit(X_train,y_train)"
   ]
  },
  {
   "cell_type": "code",
   "execution_count": null,
   "id": "outdoor-performer",
   "metadata": {
    "id": "integrated-fitting"
   },
   "outputs": [],
   "source": [
    "y_pred = lr.predict(X_test)"
   ]
  },
  {
   "cell_type": "code",
   "execution_count": null,
   "id": "several-andorra",
   "metadata": {
    "id": "recovered-infection"
   },
   "outputs": [],
   "source": [
    "from sklearn.metrics import accuracy_score,classification_report"
   ]
  },
  {
   "cell_type": "code",
   "execution_count": null,
   "id": "romance-bangladesh",
   "metadata": {
    "colab": {
     "base_uri": "https://localhost:8080/"
    },
    "id": "listed-walnut",
    "outputId": "b0eb09bd-15d3-46fc-b7ea-6aa4b2d558c1"
   },
   "outputs": [
    {
     "name": "stdout",
     "output_type": "stream",
     "text": [
      "Accuracy Score: 86.37979705225595 %\n"
     ]
    }
   ],
   "source": [
    "print('Accuracy Score:',accuracy_score(y_test,y_pred)*100,'%')"
   ]
  },
  {
   "cell_type": "code",
   "execution_count": null,
   "id": "serious-electronics",
   "metadata": {
    "colab": {
     "base_uri": "https://localhost:8080/"
    },
    "id": "-LCo13AWI-HM",
    "outputId": "b595fbbe-8226-40b2-a71d-0908ade6b1d9"
   },
   "outputs": [
    {
     "name": "stdout",
     "output_type": "stream",
     "text": [
      "              precision    recall  f1-score   support\n",
      "\n",
      "           0       0.96      0.87      0.91   1797821\n",
      "           1       0.60      0.83      0.70    419400\n",
      "\n",
      "    accuracy                           0.86   2217221\n",
      "   macro avg       0.78      0.85      0.80   2217221\n",
      "weighted avg       0.89      0.86      0.87   2217221\n",
      "\n"
     ]
    }
   ],
   "source": [
    "print(classification_report(y_test,y_pred))"
   ]
  },
  {
   "cell_type": "markdown",
   "id": "nasty-stone",
   "metadata": {
    "id": "swiss-south"
   },
   "source": [
    "## Knn Classifier"
   ]
  },
  {
   "cell_type": "code",
   "execution_count": 26,
   "id": "secure-optimization",
   "metadata": {
    "colab": {
     "base_uri": "https://localhost:8080/"
    },
    "id": "suburban-october",
    "outputId": "965a68d7-ebc2-4f00-c5f5-bae09ec52799"
   },
   "outputs": [
    {
     "data": {
      "text/plain": [
       "KNeighborsClassifier(algorithm='auto', leaf_size=30, metric='minkowski',\n",
       "                     metric_params=None, n_jobs=None, n_neighbors=5, p=2,\n",
       "                     weights='uniform')"
      ]
     },
     "execution_count": 26,
     "metadata": {
      "tags": []
     },
     "output_type": "execute_result"
    }
   ],
   "source": [
    "from sklearn.neighbors import KNeighborsClassifier\n",
    "knn = KNeighborsClassifier()\n",
    "knn.fit(X_train,y_train)"
   ]
  },
  {
   "cell_type": "code",
   "execution_count": 30,
   "id": "material-integral",
   "metadata": {
    "id": "xzkWzvFFKn8J"
   },
   "outputs": [],
   "source": [
    "y_train_pred_2 = knn.predict(X_train)\n",
    "y_pred_2 = knn.predict(X_test)"
   ]
  },
  {
   "cell_type": "code",
   "execution_count": 37,
   "id": "portable-material",
   "metadata": {
    "colab": {
     "base_uri": "https://localhost:8080/"
    },
    "id": "described-insurance",
    "outputId": "5ea84b07-8f6e-4e1c-e976-f498a9298342"
   },
   "outputs": [
    {
     "name": "stdout",
     "output_type": "stream",
     "text": [
      "Train Accuracy : 0.9762043287981507\n",
      "Test Accuracy : 0.9680591154422585\n"
     ]
    }
   ],
   "source": [
    "print(\"Train Accuracy :\",accuracy_score(y_train,y_train_pred_2))\n",
    "print(\"Test Accuracy :\",accuracy_score(y_test,y_pred_2))"
   ]
  },
  {
   "cell_type": "code",
   "execution_count": 34,
   "id": "engaging-skiing",
   "metadata": {
    "colab": {
     "base_uri": "https://localhost:8080/"
    },
    "id": "UKJl32O7Izlz",
    "outputId": "ce44f5e7-e423-41f6-f4b9-9f399ce3f013"
   },
   "outputs": [
    {
     "name": "stdout",
     "output_type": "stream",
     "text": [
      "              precision    recall  f1-score   support\n",
      "\n",
      "           0       0.99      0.97      0.98   1797821\n",
      "           1       0.90      0.94      0.92    419400\n",
      "\n",
      "    accuracy                           0.97   2217221\n",
      "   macro avg       0.94      0.96      0.95   2217221\n",
      "weighted avg       0.97      0.97      0.97   2217221\n",
      "\n"
     ]
    }
   ],
   "source": [
    "print(classification_report(y_test,y_pred_2))"
   ]
  },
  {
   "cell_type": "markdown",
   "id": "august-continuity",
   "metadata": {
    "id": "EgQ5tXVKLIEN"
   },
   "source": [
    "## Random Forest"
   ]
  },
  {
   "cell_type": "code",
   "execution_count": 21,
   "id": "random-experiment",
   "metadata": {
    "id": "JCG4rTwYEp-b"
   },
   "outputs": [],
   "source": [
    "from sklearn.ensemble import RandomForestClassifier"
   ]
  },
  {
   "cell_type": "code",
   "execution_count": 38,
   "id": "mathematical-cocktail",
   "metadata": {
    "id": "QCU56yKaLMIZ"
   },
   "outputs": [],
   "source": [
    "X = df_loan.drop('Loan_status',axis=1)\n",
    "y = df_loan.Loan_status"
   ]
  },
  {
   "cell_type": "code",
   "execution_count": 22,
   "id": "included-columbus",
   "metadata": {
    "id": "Tg4ZTETUMbTe"
   },
   "outputs": [],
   "source": [
    "X_train,X_test,y_train,y_test = train_test_split(X,y,test_size=0.2,random_state=100)"
   ]
  },
  {
   "cell_type": "code",
   "execution_count": 23,
   "id": "accessible-printer",
   "metadata": {
    "colab": {
     "base_uri": "https://localhost:8080/"
    },
    "id": "xJOdTdWwEzGW",
    "outputId": "90e30174-5e95-4e55-ae03-c042a1f68eb6"
   },
   "outputs": [
    {
     "data": {
      "text/plain": [
       "RandomForestClassifier(bootstrap=True, ccp_alpha=0.0, class_weight=None,\n",
       "                       criterion='gini', max_depth=None, max_features='auto',\n",
       "                       max_leaf_nodes=None, max_samples=None,\n",
       "                       min_impurity_decrease=0.0, min_impurity_split=None,\n",
       "                       min_samples_leaf=1, min_samples_split=2,\n",
       "                       min_weight_fraction_leaf=0.0, n_estimators=100,\n",
       "                       n_jobs=None, oob_score=False, random_state=None,\n",
       "                       verbose=0, warm_start=False)"
      ]
     },
     "execution_count": 23,
     "metadata": {
      "tags": []
     },
     "output_type": "execute_result"
    }
   ],
   "source": [
    "rfc = RandomForestClassifier()\n",
    "rfc.fit(X_train,y_train)"
   ]
  },
  {
   "cell_type": "code",
   "execution_count": 24,
   "id": "running-basket",
   "metadata": {
    "id": "F9fRrZ-DMfO1"
   },
   "outputs": [],
   "source": [
    "y_train_pred_3 = rfc.predict(X_train)\n",
    "y_pred_3 = rfc.predict(X_test)"
   ]
  },
  {
   "cell_type": "code",
   "execution_count": 25,
   "id": "international-allen",
   "metadata": {
    "colab": {
     "base_uri": "https://localhost:8080/"
    },
    "id": "rTM2f1dKMfuA",
    "outputId": "68119902-cf7b-4ca0-f927-b4aca457bc2c"
   },
   "outputs": [
    {
     "name": "stdout",
     "output_type": "stream",
     "text": [
      "Train Accuracy : 0.9958383706086066\n",
      "Test Accuracy : 0.9584353566920032\n"
     ]
    }
   ],
   "source": [
    "print(\"Train Accuracy :\",accuracy_score(y_train,y_train_pred_3))\n",
    "print(\"Test Accuracy :\",accuracy_score(y_test,y_pred_3))"
   ]
  },
  {
   "cell_type": "code",
   "execution_count": 26,
   "id": "concerned-static",
   "metadata": {
    "colab": {
     "base_uri": "https://localhost:8080/"
    },
    "id": "-2rXEicnMf0g",
    "outputId": "b7be670f-733c-4f10-b5cb-fce0b2b7f625"
   },
   "outputs": [
    {
     "name": "stdout",
     "output_type": "stream",
     "text": [
      "              precision    recall  f1-score   support\n",
      "\n",
      "           0       0.98      0.97      0.97   1798592\n",
      "           1       0.88      0.90      0.89    418629\n",
      "\n",
      "    accuracy                           0.96   2217221\n",
      "   macro avg       0.93      0.94      0.93   2217221\n",
      "weighted avg       0.96      0.96      0.96   2217221\n",
      "\n"
     ]
    }
   ],
   "source": [
    "print(classification_report(y_test,y_pred_3))"
   ]
  },
  {
   "cell_type": "markdown",
   "id": "historical-desktop",
   "metadata": {
    "id": "N6qSwLVKN-WG"
   },
   "source": [
    "## Gradient Boosting Classifier"
   ]
  },
  {
   "cell_type": "code",
   "execution_count": 27,
   "id": "sharing-hours",
   "metadata": {
    "id": "u5nBIZRvOCwK"
   },
   "outputs": [],
   "source": [
    "from sklearn.ensemble import GradientBoostingClassifier\n",
    "from sklearn.model_selection import RandomizedSearchCV"
   ]
  },
  {
   "cell_type": "code",
   "execution_count": 28,
   "id": "illegal-garbage",
   "metadata": {
    "colab": {
     "base_uri": "https://localhost:8080/"
    },
    "id": "5wVU6IOhOLsU",
    "outputId": "9914e412-2165-4fd8-a1d3-21d1d3e987ad"
   },
   "outputs": [
    {
     "data": {
      "text/plain": [
       "GradientBoostingClassifier(ccp_alpha=0.0, criterion='friedman_mse', init=None,\n",
       "                           learning_rate=0.1, loss='deviance', max_depth=3,\n",
       "                           max_features=None, max_leaf_nodes=None,\n",
       "                           min_impurity_decrease=0.0, min_impurity_split=None,\n",
       "                           min_samples_leaf=1, min_samples_split=2,\n",
       "                           min_weight_fraction_leaf=0.0, n_estimators=100,\n",
       "                           n_iter_no_change=None, presort='deprecated',\n",
       "                           random_state=None, subsample=1.0, tol=0.0001,\n",
       "                           validation_fraction=0.1, verbose=0,\n",
       "                           warm_start=False)"
      ]
     },
     "execution_count": 28,
     "metadata": {
      "tags": []
     },
     "output_type": "execute_result"
    }
   ],
   "source": [
    "rs_gbt = GradientBoostingClassifier()\n",
    "rs_gbt.fit(X_train, y_train)"
   ]
  },
  {
   "cell_type": "code",
   "execution_count": 29,
   "id": "unlikely-skiing",
   "metadata": {
    "id": "TanBcAhwOMBN"
   },
   "outputs": [],
   "source": [
    "y_pred_4 = rs_gbt.predict(X_test)\n",
    "y_pred4_train = rs_gbt.predict(X_train)"
   ]
  },
  {
   "cell_type": "code",
   "execution_count": 30,
   "id": "veterinary-update",
   "metadata": {
    "colab": {
     "base_uri": "https://localhost:8080/"
    },
    "id": "RRcLtOemU4Yj",
    "outputId": "81275b00-b097-4433-c4da-235543ee5b33"
   },
   "outputs": [
    {
     "name": "stdout",
     "output_type": "stream",
     "text": [
      "Train Accuracy : 0.9413565317477446\n",
      "Test Accuracy : 0.9411714033017007\n"
     ]
    }
   ],
   "source": [
    "print(\"Train Accuracy :\",accuracy_score(y_train,y_pred4_train))\n",
    "print(\"Test Accuracy :\",accuracy_score(y_test,y_pred_4))"
   ]
  },
  {
   "cell_type": "code",
   "execution_count": 31,
   "id": "consistent-singles",
   "metadata": {
    "colab": {
     "base_uri": "https://localhost:8080/"
    },
    "id": "tI_3Qq4MOZiF",
    "outputId": "2c0ac291-cee9-4dc2-fbba-69b468e5969d"
   },
   "outputs": [
    {
     "name": "stdout",
     "output_type": "stream",
     "text": [
      "              precision    recall  f1-score   support\n",
      "\n",
      "           0       0.96      0.97      0.96   1798592\n",
      "           1       0.85      0.83      0.84    418629\n",
      "\n",
      "    accuracy                           0.94   2217221\n",
      "   macro avg       0.91      0.90      0.90   2217221\n",
      "weighted avg       0.94      0.94      0.94   2217221\n",
      "\n"
     ]
    }
   ],
   "source": [
    "print(classification_report(y_test,y_pred_4))"
   ]
  },
  {
   "cell_type": "code",
   "execution_count": null,
   "id": "former-option",
   "metadata": {
    "id": "j1uFNIMKUw2o"
   },
   "outputs": [],
   "source": []
  }
 ],
 "metadata": {
  "accelerator": "TPU",
  "colab": {
   "name": "loan.ipynb",
   "provenance": []
  },
  "kernelspec": {
   "display_name": "Python 3",
   "language": "python",
   "name": "python3"
  },
  "language_info": {
   "codemirror_mode": {
    "name": "ipython",
    "version": 3
   },
   "file_extension": ".py",
   "mimetype": "text/x-python",
   "name": "python",
   "nbconvert_exporter": "python",
   "pygments_lexer": "ipython3",
   "version": "3.7.4"
  }
 },
 "nbformat": 4,
 "nbformat_minor": 5
}
